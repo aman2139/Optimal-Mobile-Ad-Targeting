{
 "cells": [
  {
   "cell_type": "markdown",
   "id": "aecff19f",
   "metadata": {},
   "source": [
    "# TZ Gaming: Optimal Targeting of Mobile Ads"
   ]
  },
  {
   "cell_type": "code",
   "execution_count": 163,
   "id": "4dd2ad5c",
   "metadata": {},
   "outputs": [],
   "source": [
    "import os\n",
    "\n",
    "import matplotlib as mpl\n",
    "import matplotlib.pyplot as plt\n",
    "import numpy as np\n",
    "import pandas as pd\n",
    "import pyrsm as rsm\n",
    "import seaborn as sns\n",
    "\n",
    "# increase plot resolution\n",
    "# mpl.rcParams[\"figure.dpi\"] = 200"
   ]
  },
  {
   "cell_type": "code",
   "execution_count": 164,
   "id": "f6496814",
   "metadata": {},
   "outputs": [
    {
     "data": {
      "text/plain": [
       "'1.1.0'"
      ]
     },
     "execution_count": 164,
     "metadata": {},
     "output_type": "execute_result"
    }
   ],
   "source": [
    "# if your pyrsm version is not 1.1.0 install in a\n",
    "# terminal using: pip install --user pyrsm --upgrade\n",
    "rsm.__version__"
   ]
  },
  {
   "cell_type": "code",
   "execution_count": 165,
   "id": "b7b8bc29",
   "metadata": {},
   "outputs": [
    {
     "data": {
      "text/html": [
       "<div>\n",
       "<style scoped>\n",
       "    .dataframe tbody tr th:only-of-type {\n",
       "        vertical-align: middle;\n",
       "    }\n",
       "\n",
       "    .dataframe tbody tr th {\n",
       "        vertical-align: top;\n",
       "    }\n",
       "\n",
       "    .dataframe thead th {\n",
       "        text-align: right;\n",
       "    }\n",
       "</style>\n",
       "<table border=\"1\" class=\"dataframe\">\n",
       "  <thead>\n",
       "    <tr style=\"text-align: right;\">\n",
       "      <th></th>\n",
       "      <th>training</th>\n",
       "      <th>inum</th>\n",
       "      <th>click</th>\n",
       "      <th>time</th>\n",
       "      <th>time_fct</th>\n",
       "      <th>app</th>\n",
       "      <th>mobile_os</th>\n",
       "      <th>impup</th>\n",
       "      <th>clup</th>\n",
       "      <th>ctrup</th>\n",
       "      <th>...</th>\n",
       "      <th>ctrua</th>\n",
       "      <th>imput</th>\n",
       "      <th>clut</th>\n",
       "      <th>ctrut</th>\n",
       "      <th>imppat</th>\n",
       "      <th>clpat</th>\n",
       "      <th>ctrpat</th>\n",
       "      <th>rnd</th>\n",
       "      <th>pred_vneta</th>\n",
       "      <th>id</th>\n",
       "    </tr>\n",
       "  </thead>\n",
       "  <tbody>\n",
       "    <tr>\n",
       "      <th>0</th>\n",
       "      <td>train</td>\n",
       "      <td>I7</td>\n",
       "      <td>no</td>\n",
       "      <td>9</td>\n",
       "      <td>9</td>\n",
       "      <td>app8</td>\n",
       "      <td>ios</td>\n",
       "      <td>439</td>\n",
       "      <td>2</td>\n",
       "      <td>0.455581</td>\n",
       "      <td>...</td>\n",
       "      <td>0.000000</td>\n",
       "      <td>25</td>\n",
       "      <td>0</td>\n",
       "      <td>0.000000</td>\n",
       "      <td>71</td>\n",
       "      <td>1</td>\n",
       "      <td>1.408451</td>\n",
       "      <td>-1.207066</td>\n",
       "      <td>0.003961</td>\n",
       "      <td>id247135</td>\n",
       "    </tr>\n",
       "    <tr>\n",
       "      <th>1</th>\n",
       "      <td>train</td>\n",
       "      <td>I23</td>\n",
       "      <td>no</td>\n",
       "      <td>15</td>\n",
       "      <td>15</td>\n",
       "      <td>app1</td>\n",
       "      <td>ios</td>\n",
       "      <td>64</td>\n",
       "      <td>0</td>\n",
       "      <td>0.000000</td>\n",
       "      <td>...</td>\n",
       "      <td>0.000000</td>\n",
       "      <td>7</td>\n",
       "      <td>0</td>\n",
       "      <td>0.000000</td>\n",
       "      <td>67312</td>\n",
       "      <td>1069</td>\n",
       "      <td>1.588127</td>\n",
       "      <td>0.277429</td>\n",
       "      <td>0.003961</td>\n",
       "      <td>id245079</td>\n",
       "    </tr>\n",
       "    <tr>\n",
       "      <th>2</th>\n",
       "      <td>train</td>\n",
       "      <td>I28</td>\n",
       "      <td>no</td>\n",
       "      <td>12</td>\n",
       "      <td>12</td>\n",
       "      <td>app5</td>\n",
       "      <td>ios</td>\n",
       "      <td>80</td>\n",
       "      <td>0</td>\n",
       "      <td>0.000000</td>\n",
       "      <td>...</td>\n",
       "      <td>6.578947</td>\n",
       "      <td>94</td>\n",
       "      <td>0</td>\n",
       "      <td>0.000000</td>\n",
       "      <td>331</td>\n",
       "      <td>1</td>\n",
       "      <td>0.302115</td>\n",
       "      <td>1.084441</td>\n",
       "      <td>0.003961</td>\n",
       "      <td>id927245</td>\n",
       "    </tr>\n",
       "    <tr>\n",
       "      <th>3</th>\n",
       "      <td>train</td>\n",
       "      <td>I30</td>\n",
       "      <td>no</td>\n",
       "      <td>19</td>\n",
       "      <td>19</td>\n",
       "      <td>app1</td>\n",
       "      <td>ios</td>\n",
       "      <td>25</td>\n",
       "      <td>0</td>\n",
       "      <td>0.000000</td>\n",
       "      <td>...</td>\n",
       "      <td>0.000000</td>\n",
       "      <td>19</td>\n",
       "      <td>0</td>\n",
       "      <td>0.000000</td>\n",
       "      <td>71114</td>\n",
       "      <td>1001</td>\n",
       "      <td>1.407599</td>\n",
       "      <td>-2.345698</td>\n",
       "      <td>0.018965</td>\n",
       "      <td>id922188</td>\n",
       "    </tr>\n",
       "    <tr>\n",
       "      <th>4</th>\n",
       "      <td>train</td>\n",
       "      <td>I35</td>\n",
       "      <td>no</td>\n",
       "      <td>24</td>\n",
       "      <td>24</td>\n",
       "      <td>app1</td>\n",
       "      <td>android</td>\n",
       "      <td>3834</td>\n",
       "      <td>29</td>\n",
       "      <td>0.756390</td>\n",
       "      <td>...</td>\n",
       "      <td>0.689655</td>\n",
       "      <td>329</td>\n",
       "      <td>4</td>\n",
       "      <td>1.215805</td>\n",
       "      <td>183852</td>\n",
       "      <td>2317</td>\n",
       "      <td>1.260253</td>\n",
       "      <td>0.429125</td>\n",
       "      <td>0.003961</td>\n",
       "      <td>id355833</td>\n",
       "    </tr>\n",
       "  </tbody>\n",
       "</table>\n",
       "<p>5 rows × 22 columns</p>\n",
       "</div>"
      ],
      "text/plain": [
       "  training inum click  time time_fct   app mobile_os  impup  clup     ctrup  \\\n",
       "0    train   I7    no     9        9  app8       ios    439     2  0.455581   \n",
       "1    train  I23    no    15       15  app1       ios     64     0  0.000000   \n",
       "2    train  I28    no    12       12  app5       ios     80     0  0.000000   \n",
       "3    train  I30    no    19       19  app1       ios     25     0  0.000000   \n",
       "4    train  I35    no    24       24  app1   android   3834    29  0.756390   \n",
       "\n",
       "   ...     ctrua  imput  clut     ctrut  imppat  clpat    ctrpat       rnd  \\\n",
       "0  ...  0.000000     25     0  0.000000      71      1  1.408451 -1.207066   \n",
       "1  ...  0.000000      7     0  0.000000   67312   1069  1.588127  0.277429   \n",
       "2  ...  6.578947     94     0  0.000000     331      1  0.302115  1.084441   \n",
       "3  ...  0.000000     19     0  0.000000   71114   1001  1.407599 -2.345698   \n",
       "4  ...  0.689655    329     4  1.215805  183852   2317  1.260253  0.429125   \n",
       "\n",
       "   pred_vneta        id  \n",
       "0    0.003961  id247135  \n",
       "1    0.003961  id245079  \n",
       "2    0.003961  id927245  \n",
       "3    0.018965  id922188  \n",
       "4    0.003961  id355833  \n",
       "\n",
       "[5 rows x 22 columns]"
      ]
     },
     "execution_count": 165,
     "metadata": {},
     "output_type": "execute_result"
    }
   ],
   "source": [
    "# loading data tz_gaming.parquet\n",
    "tz_gaming = pd.read_parquet(\"data/tz_gaming.parquet\")\n",
    "tz_gaming.head()"
   ]
  },
  {
   "cell_type": "code",
   "execution_count": 166,
   "id": "15ec4b90",
   "metadata": {},
   "outputs": [
    {
     "data": {
      "text/markdown": [
       "### TZ Gaming: Optimal Targeting of Mobile Ads\n",
       "\n",
       "Each row in the `tz_gaming` dataset represents an impression. For each row (impression), we have data on 21 variables. All explanatory variables are created by Vneta based on one month tracking history of users, apps, and ads. The available variables are described in below. \n",
       "\n",
       "* _training_ -- Dummy variable that splits the dataset into a training (\"train\") and a test (\"test\") set\n",
       "* _inum_ -- Impression number\n",
       "* _click_ -- Click indicator for the TZ ad served in the impression. Equals \"yes\" if the ad was clicked and \"no\" otherwise\n",
       "* _time_ -- The hour of the day in which the impression occurred (1-24). For example, \"2\" indicates the impression occurred between 1 am and 2 am\n",
       "* _time\\_fct_ -- Same as _time_ but the is coded as categorical \n",
       "* _app_ -- The app in which the impression was shown. Ranges from 1 to 49\n",
       "* _mobile\\_os_ -- Customer's mobile OS\n",
       "* _impup_ -- Number of past impressions the user has seen in the app\n",
       "* _clup_ -- Number of past impressions the user has clicked on in the app\n",
       "* _ctrup_ -- Past CTR (Click-Through Rate) (x 100) for the user in the app\n",
       "* _impua_ -- Number of past impressions of the TZ ad that the user has seen across all apps\n",
       "* _clua_ -- Number of past impressions of the TZ ad that the user has clicked on across all apps\n",
       "* _ctrua_ -- Past CTR (x 100) of the TZ ad by the user across all apps\n",
       "* _imput_ -- Number of past impressions the user has seen within in the hour\n",
       "* _clut_ -- Number of past impressions the user has clicked on in the hour\n",
       "* _ctrut_ -- Past CTR (x 100) of the user in the hour\n",
       "* _imppat_ -- Number of past impressions that showed the TZ ad in the app in the hour\n",
       "* _clpat_ -- Number of past clicks the TZ ad has received in the app in the hour\n",
       "* _ctrpat_ -- Past CTR (x 100) of the TZ ad in the app in the hour\n",
       "* _rnd_ -- Simulated data from a normal distribution with mean 0 and a standard deviation of 1\n",
       "* _pred\\_vneta_ -- Predicted probability of click per impressions generated by Vneta's proprietary machine learning algorithm\n",
       "* id -- Anonymized user ID\n",
       "\n",
       "Note that there is a clear relationship between the impressions, clicks, and ctr variables within a strata. Specifically: \n",
       "\n",
       "* ctrup = clup/impup\n",
       "* ctru = clu/impu\n",
       "* ctrut = clut/imput\n",
       "* ctrpat = clpat/impat\n",
       "\n",
       "The last three letters of a feature indicate the sources of variation in a variable:\n",
       "\n",
       "* u — denotes user\n",
       "* t — denotes time\n",
       "* p — denotes app\n",
       "* a — denotes ad \n",
       "\n"
      ],
      "text/plain": [
       "<IPython.core.display.Markdown object>"
      ]
     },
     "metadata": {},
     "output_type": "display_data"
    }
   ],
   "source": [
    "tz_gaming_description = rsm.md(\"data/tz_gaming_description.md\")"
   ]
  },
  {
   "cell_type": "markdown",
   "id": "8cb5253a",
   "metadata": {},
   "source": [
    "> Note: Review the data description carefully and watch the \"Video: TZ gaming preview (12 min)\" linked on Canvas"
   ]
  },
  {
   "cell_type": "markdown",
   "id": "ffc3eefb",
   "metadata": {},
   "source": [
    "> Note: Full case and question details are contained in the tz-gaming-msba.pdf file\n"
   ]
  },
  {
   "attachments": {},
   "cell_type": "markdown",
   "id": "af1428da",
   "metadata": {},
   "source": [
    "## Part I: Logistic regression (10 points)"
   ]
  },
  {
   "cell_type": "markdown",
   "id": "1c623da9",
   "metadata": {},
   "source": [
    "> Note: For the following questions, use only the \"training\" sample of impressions (i.e., 87,535 rows where \"training == 'train'\")."
   ]
  },
  {
   "cell_type": "markdown",
   "id": "361b6ecd",
   "metadata": {},
   "source": [
    "a. Estimate a logistic regression model using `click` as the response variable (target) and the following as explanatory variables (features). The model should predict the probability that `click` is equal to \"yes\" (2 points):\n",
    "\n",
    "`time_fct, app, mobile_os, impua, clua, ctrua`"
   ]
  },
  {
   "cell_type": "code",
   "execution_count": 167,
   "id": "a09ac84c",
   "metadata": {},
   "outputs": [
    {
     "data": {
      "text/html": [
       "<div>\n",
       "<style scoped>\n",
       "    .dataframe tbody tr th:only-of-type {\n",
       "        vertical-align: middle;\n",
       "    }\n",
       "\n",
       "    .dataframe tbody tr th {\n",
       "        vertical-align: top;\n",
       "    }\n",
       "\n",
       "    .dataframe thead th {\n",
       "        text-align: right;\n",
       "    }\n",
       "</style>\n",
       "<table border=\"1\" class=\"dataframe\">\n",
       "  <thead>\n",
       "    <tr style=\"text-align: right;\">\n",
       "      <th></th>\n",
       "      <th>training</th>\n",
       "      <th>inum</th>\n",
       "      <th>click</th>\n",
       "      <th>time</th>\n",
       "      <th>time_fct</th>\n",
       "      <th>app</th>\n",
       "      <th>mobile_os</th>\n",
       "      <th>impup</th>\n",
       "      <th>clup</th>\n",
       "      <th>ctrup</th>\n",
       "      <th>...</th>\n",
       "      <th>ctrua</th>\n",
       "      <th>imput</th>\n",
       "      <th>clut</th>\n",
       "      <th>ctrut</th>\n",
       "      <th>imppat</th>\n",
       "      <th>clpat</th>\n",
       "      <th>ctrpat</th>\n",
       "      <th>rnd</th>\n",
       "      <th>pred_vneta</th>\n",
       "      <th>id</th>\n",
       "    </tr>\n",
       "  </thead>\n",
       "  <tbody>\n",
       "    <tr>\n",
       "      <th>0</th>\n",
       "      <td>train</td>\n",
       "      <td>I7</td>\n",
       "      <td>no</td>\n",
       "      <td>9</td>\n",
       "      <td>9</td>\n",
       "      <td>app8</td>\n",
       "      <td>ios</td>\n",
       "      <td>439</td>\n",
       "      <td>2</td>\n",
       "      <td>0.455581</td>\n",
       "      <td>...</td>\n",
       "      <td>0.000000</td>\n",
       "      <td>25</td>\n",
       "      <td>0</td>\n",
       "      <td>0.000000</td>\n",
       "      <td>71</td>\n",
       "      <td>1</td>\n",
       "      <td>1.408451</td>\n",
       "      <td>-1.207066</td>\n",
       "      <td>0.003961</td>\n",
       "      <td>id247135</td>\n",
       "    </tr>\n",
       "    <tr>\n",
       "      <th>1</th>\n",
       "      <td>train</td>\n",
       "      <td>I23</td>\n",
       "      <td>no</td>\n",
       "      <td>15</td>\n",
       "      <td>15</td>\n",
       "      <td>app1</td>\n",
       "      <td>ios</td>\n",
       "      <td>64</td>\n",
       "      <td>0</td>\n",
       "      <td>0.000000</td>\n",
       "      <td>...</td>\n",
       "      <td>0.000000</td>\n",
       "      <td>7</td>\n",
       "      <td>0</td>\n",
       "      <td>0.000000</td>\n",
       "      <td>67312</td>\n",
       "      <td>1069</td>\n",
       "      <td>1.588127</td>\n",
       "      <td>0.277429</td>\n",
       "      <td>0.003961</td>\n",
       "      <td>id245079</td>\n",
       "    </tr>\n",
       "    <tr>\n",
       "      <th>2</th>\n",
       "      <td>train</td>\n",
       "      <td>I28</td>\n",
       "      <td>no</td>\n",
       "      <td>12</td>\n",
       "      <td>12</td>\n",
       "      <td>app5</td>\n",
       "      <td>ios</td>\n",
       "      <td>80</td>\n",
       "      <td>0</td>\n",
       "      <td>0.000000</td>\n",
       "      <td>...</td>\n",
       "      <td>6.578947</td>\n",
       "      <td>94</td>\n",
       "      <td>0</td>\n",
       "      <td>0.000000</td>\n",
       "      <td>331</td>\n",
       "      <td>1</td>\n",
       "      <td>0.302115</td>\n",
       "      <td>1.084441</td>\n",
       "      <td>0.003961</td>\n",
       "      <td>id927245</td>\n",
       "    </tr>\n",
       "    <tr>\n",
       "      <th>3</th>\n",
       "      <td>train</td>\n",
       "      <td>I30</td>\n",
       "      <td>no</td>\n",
       "      <td>19</td>\n",
       "      <td>19</td>\n",
       "      <td>app1</td>\n",
       "      <td>ios</td>\n",
       "      <td>25</td>\n",
       "      <td>0</td>\n",
       "      <td>0.000000</td>\n",
       "      <td>...</td>\n",
       "      <td>0.000000</td>\n",
       "      <td>19</td>\n",
       "      <td>0</td>\n",
       "      <td>0.000000</td>\n",
       "      <td>71114</td>\n",
       "      <td>1001</td>\n",
       "      <td>1.407599</td>\n",
       "      <td>-2.345698</td>\n",
       "      <td>0.018965</td>\n",
       "      <td>id922188</td>\n",
       "    </tr>\n",
       "    <tr>\n",
       "      <th>4</th>\n",
       "      <td>train</td>\n",
       "      <td>I35</td>\n",
       "      <td>no</td>\n",
       "      <td>24</td>\n",
       "      <td>24</td>\n",
       "      <td>app1</td>\n",
       "      <td>android</td>\n",
       "      <td>3834</td>\n",
       "      <td>29</td>\n",
       "      <td>0.756390</td>\n",
       "      <td>...</td>\n",
       "      <td>0.689655</td>\n",
       "      <td>329</td>\n",
       "      <td>4</td>\n",
       "      <td>1.215805</td>\n",
       "      <td>183852</td>\n",
       "      <td>2317</td>\n",
       "      <td>1.260253</td>\n",
       "      <td>0.429125</td>\n",
       "      <td>0.003961</td>\n",
       "      <td>id355833</td>\n",
       "    </tr>\n",
       "  </tbody>\n",
       "</table>\n",
       "<p>5 rows × 22 columns</p>\n",
       "</div>"
      ],
      "text/plain": [
       "  training inum click  time time_fct   app mobile_os  impup  clup     ctrup  \\\n",
       "0    train   I7    no     9        9  app8       ios    439     2  0.455581   \n",
       "1    train  I23    no    15       15  app1       ios     64     0  0.000000   \n",
       "2    train  I28    no    12       12  app5       ios     80     0  0.000000   \n",
       "3    train  I30    no    19       19  app1       ios     25     0  0.000000   \n",
       "4    train  I35    no    24       24  app1   android   3834    29  0.756390   \n",
       "\n",
       "   ...     ctrua  imput  clut     ctrut  imppat  clpat    ctrpat       rnd  \\\n",
       "0  ...  0.000000     25     0  0.000000      71      1  1.408451 -1.207066   \n",
       "1  ...  0.000000      7     0  0.000000   67312   1069  1.588127  0.277429   \n",
       "2  ...  6.578947     94     0  0.000000     331      1  0.302115  1.084441   \n",
       "3  ...  0.000000     19     0  0.000000   71114   1001  1.407599 -2.345698   \n",
       "4  ...  0.689655    329     4  1.215805  183852   2317  1.260253  0.429125   \n",
       "\n",
       "   pred_vneta        id  \n",
       "0    0.003961  id247135  \n",
       "1    0.003961  id245079  \n",
       "2    0.003961  id927245  \n",
       "3    0.018965  id922188  \n",
       "4    0.003961  id355833  \n",
       "\n",
       "[5 rows x 22 columns]"
      ]
     },
     "execution_count": 167,
     "metadata": {},
     "output_type": "execute_result"
    }
   ],
   "source": [
    "tz_gaming_train = tz_gaming[tz_gaming['training'] == 'train']\n",
    "tz_gaming_train.head()"
   ]
  },
  {
   "cell_type": "code",
   "execution_count": 168,
   "id": "02b16397",
   "metadata": {},
   "outputs": [
    {
     "name": "stdout",
     "output_type": "stream",
     "text": [
      "Logistic regression (GLM)\n",
      "Data                 : tz_gaming_train\n",
      "Response variable    : click\n",
      "Level                : yes\n",
      "Explanatory variables: time_fct, app, mobile_os, impua, clua, ctrua\n",
      "Null hyp.: There is no effect of x on click\n",
      "Alt. hyp.: There is an effect of x on click\n",
      "\n",
      "                     OR      OR%  coefficient   std.error  z.value p.value     \n",
      "Intercept         0.029   -97.1%        -3.53       0.197  -17.936  < .001  ***\n",
      "time_fct[2]       0.622   -37.8%        -0.47       0.321   -1.478   0.139     \n",
      "time_fct[3]       0.718   -28.2%        -0.33       0.454   -0.730   0.466     \n",
      "time_fct[4]       0.000  -100.0%       -23.54   42007.161   -0.001     1.0     \n",
      "time_fct[5]       0.000  -100.0%       -23.72   55229.970   -0.000     1.0     \n",
      "time_fct[6]       0.349   -65.1%        -1.05       1.021   -1.030   0.303     \n",
      "time_fct[7]       1.221    22.1%         0.20       0.426    0.468    0.64     \n",
      "time_fct[8]       1.104    10.4%         0.10       0.296    0.335   0.737     \n",
      "time_fct[9]       1.029     2.9%         0.03       0.287    0.101    0.92     \n",
      "time_fct[10]      0.830   -17.0%        -0.19       0.295   -0.633   0.527     \n",
      "time_fct[11]      0.637   -36.3%        -0.45       0.276   -1.635   0.102     \n",
      "time_fct[12]      0.874   -12.6%        -0.14       0.280   -0.483   0.629     \n",
      "time_fct[13]      0.590   -41.0%        -0.53       0.290   -1.823   0.068    .\n",
      "time_fct[14]      1.099     9.9%         0.09       0.225    0.419   0.675     \n",
      "time_fct[15]      0.986    -1.4%        -0.01       0.225   -0.062   0.951     \n",
      "time_fct[16]      1.046     4.6%         0.05       0.233    0.195   0.846     \n",
      "time_fct[17]      1.014     1.4%         0.01       0.250    0.055   0.956     \n",
      "time_fct[18]      1.061     6.1%         0.06       0.247    0.241   0.809     \n",
      "time_fct[19]      1.284    28.4%         0.25       0.233    1.072   0.284     \n",
      "time_fct[20]      1.224    22.4%         0.20       0.231    0.873   0.382     \n",
      "time_fct[21]      0.867   -13.3%        -0.14       0.244   -0.584   0.559     \n",
      "time_fct[22]      0.970    -3.0%        -0.03       0.238   -0.127   0.899     \n",
      "time_fct[23]      1.044     4.4%         0.04       0.238    0.180   0.857     \n",
      "time_fct[24]      1.099     9.9%         0.09       0.229    0.410   0.682     \n",
      "app[app2]         0.124   -87.6%        -2.09       0.229   -9.127  < .001  ***\n",
      "app[app3]         0.184   -81.6%        -1.69       1.003   -1.689   0.091    .\n",
      "app[app4]         0.383   -61.7%        -0.96       0.321   -2.988   0.003   **\n",
      "app[app5]         0.282   -71.8%        -1.26       1.005   -1.258   0.208     \n",
      "app[app6]         0.651   -34.9%        -0.43       0.175   -2.457   0.014    *\n",
      "app[app7]         0.596   -40.4%        -0.52       1.007   -0.513   0.608     \n",
      "app[app8]         0.000  -100.0%       -24.37   71686.172   -0.000     1.0     \n",
      "app[app9]         0.748   -25.2%        -0.29       0.236   -1.227    0.22     \n",
      "app[app10]        0.000  -100.0%       -23.89   67058.977   -0.000     1.0     \n",
      "app[app11]        1.051     5.1%         0.05       0.719    0.069   0.945     \n",
      "app[app12]        0.713   -28.7%        -0.34       0.224   -1.504   0.133     \n",
      "app[app13]        2.131   113.1%         0.76       0.204    3.709  < .001  ***\n",
      "app[app14]        0.218   -78.2%        -1.53       0.451   -3.384  < .001  ***\n",
      "app[app15]        0.462   -53.8%        -0.77       0.717   -1.077   0.281     \n",
      "app[app16]        0.251   -74.9%        -1.38       0.711   -1.945   0.052    .\n",
      "app[app17]        0.882   -11.8%        -0.13       0.724   -0.174   0.862     \n",
      "app[app18]        0.075   -92.5%        -2.59       1.002   -2.586    0.01   **\n",
      "app[app19]        0.000  -100.0%       -24.37   92379.731   -0.000     1.0     \n",
      "app[app20]        0.000  -100.0%       -24.21   71551.198   -0.000     1.0     \n",
      "app[app21]        0.337   -66.3%        -1.09       0.383   -2.839   0.005   **\n",
      "app[app22]        0.321   -67.9%        -1.14       1.005   -1.130   0.258     \n",
      "app[app23]        3.111   211.1%         1.13       0.392    2.898   0.004   **\n",
      "app[app24]        1.590    59.0%         0.46       0.273    1.701   0.089    .\n",
      "app[app25]        0.975    -2.5%        -0.03       0.594   -0.042   0.966     \n",
      "app[app26]        0.000  -100.0%       -24.47   62613.516   -0.000     1.0     \n",
      "app[app27]        0.202   -79.8%        -1.60       0.711   -2.253   0.024    *\n",
      "app[app28]        0.328   -67.2%        -1.11       0.581   -1.918   0.055    .\n",
      "app[app29]        2.634   163.4%         0.97       0.345    2.805   0.005   **\n",
      "app[app30]        0.000  -100.0%       -24.39   85789.970   -0.000     1.0     \n",
      "app[app31]        0.246   -75.4%        -1.40       0.710   -1.975   0.048    *\n",
      "app[app32]        0.000  -100.0%       -23.16   46670.216   -0.000     1.0     \n",
      "app[app33]        0.513   -48.7%        -0.67       0.338   -1.974   0.048    *\n",
      "app[app34]        0.000  -100.0%       -24.22   54802.115   -0.000     1.0     \n",
      "app[app35]        0.226   -77.4%        -1.49       1.004   -1.480   0.139     \n",
      "app[app36]        0.000  -100.0%       -24.12   76747.449   -0.000     1.0     \n",
      "app[app37]        0.434   -56.6%        -0.84       0.714   -1.171   0.242     \n",
      "app[app38]        0.000  -100.0%       -23.86   53394.100   -0.000     1.0     \n",
      "app[app39]        1.741    74.1%         0.55       0.419    1.322   0.186     \n",
      "app[app40]        1.005     0.5%         0.00       0.514    0.009   0.993     \n",
      "app[app41]        0.632   -36.8%        -0.46       0.714   -0.644   0.519     \n",
      "app[app42]        2.009   100.9%         0.70       0.369    1.889   0.059    .\n",
      "app[app43]        0.000  -100.0%       -24.47   75014.775   -0.000     1.0     \n",
      "app[app44]        0.000  -100.0%       -24.24   45702.677   -0.001     1.0     \n",
      "app[app45]        1.479    47.9%         0.39       0.588    0.665   0.506     \n",
      "app[app46]        0.296   -70.4%        -1.22       1.005   -1.210   0.226     \n",
      "app[app47]        0.289   -71.1%        -1.24       1.005   -1.235   0.217     \n",
      "app[app48]        0.000  -100.0%       -24.03  101834.366   -0.000     1.0     \n",
      "app[app49]        0.241   -75.9%        -1.42       1.004   -1.418   0.156     \n",
      "mobile_os[ios]    0.450   -55.0%        -0.80       0.076  -10.440  < .001  ***\n",
      "mobile_os[other]  0.719   -28.1%        -0.33       0.183   -1.801   0.072    .\n",
      "impua             0.979    -2.1%        -0.02       0.002  -11.386  < .001  ***\n",
      "clua              1.295    29.5%         0.26       0.058    4.452  < .001  ***\n",
      "ctrua             1.022     2.2%         0.02       0.002    9.058  < .001  ***\n",
      "\n",
      "Signif. codes:  0 '***' 0.001 '**' 0.01 '*' 0.05 '.' 0.1 ' ' 1\n",
      "\n",
      "Pseudo R-squared (McFadden): 0.109\n",
      "Pseudo R-squared (McFadden adjusted): 0.092\n",
      "Area under the RO Curve (AUC): 0.792\n",
      "Log-likelihood: -3946.072, AIC: 8046.145, BIC: 8768.389\n",
      "Chi-squared: 968.279, df(76), p.value < 0.001 \n",
      "Nr obs: 87,535\n"
     ]
    }
   ],
   "source": [
    "clf = rsm.model.logistic({\"tz_gaming_train\": tz_gaming_train}, rvar=\"click\", lev=\"yes\", evar=[\"time_fct\", \"app\", \"mobile_os\", \"impua\", \"clua\", \"ctrua\"])\n",
    "clf.summary()"
   ]
  },
  {
   "cell_type": "code",
   "execution_count": 169,
   "id": "4f8b0822",
   "metadata": {},
   "outputs": [
    {
     "name": "stdout",
     "output_type": "stream",
     "text": [
      "\n",
      "Variance inflation factors:\n",
      "\n",
      "             vif    Rsq\n",
      "clua       1.292  0.226\n",
      "app        1.250  0.200\n",
      "impua      1.239  0.193\n",
      "ctrua      1.174  0.148\n",
      "time_fct   1.051  0.048\n",
      "mobile_os  1.002  0.002\n"
     ]
    }
   ],
   "source": [
    "clf.summary(main=False, fit=False, vif=True)"
   ]
  },
  {
   "cell_type": "markdown",
   "id": "2d7f5918",
   "metadata": {},
   "source": [
    "Low VIFs indicate that multicollinearity is unlikely to cause instability in the coefficient estimates or inflate standard errors. Since all VIFs are well below the threshold (5 or 10), there is no immediate need to remove variables or apply techniques like regularization to address. The low multicollinearity ensures that the coefficients for predictors like clua, impua, and ctrua can be interpreted without the influence of redundant information from other predictors."
   ]
  },
  {
   "attachments": {},
   "cell_type": "markdown",
   "id": "3767d844",
   "metadata": {
    "lines_to_next_cell": 2
   },
   "source": [
    "\n",
    "b. Summarize and interpret the logistic regression results. Which of these explanatory variables are statistically significant? Which variables are most important? Make sure your model evaluation includes (1) an interpretation of the Permutation importance and Prediction plots for the explanatory variables `mobile_os`, `impua`, `clua`, and `ctrua` and (2) an evaluation of the model as a whole using Pseudo R-squared and the Chi-square test (5 points)."
   ]
  },
  {
   "cell_type": "markdown",
   "id": "e06a9faf",
   "metadata": {},
   "source": [
    "This logistic regression model predicts the likelihood of a click (click == \"yes\") using explanatory variables: time_fct, app, mobile_os, impua, clua, and ctrua. Below is a detailed analysis of the model's output.\n",
    "\n",
    "1. Pseudo R-squared:\n",
    "McFadden’s Pseudo R-squared: 0.109\n",
    "Indicates the model explains about 10.9% of the variance in the log-likelihood compared to a null model. It measures how well the model fits the data compared to a null model (a model with no predictors, only an intercept). For logistic regression, values between 0.2 and 0.4 are considered excellent, so 0.109 is moderate. While this value might appear low compared to linear regression, Pseudo R-squared values between 0.2 and 0.4 are considered excellent in logistic regression.\n",
    "\n",
    "    The model captures a moderate proportion of variability in the log-likelihood. There is room for improvement, either by refining predictors or adding additional relevant features.\n",
    "\n",
    "2. Adjusted Pseudo R-squared: 0.092\n",
    "Adjusted for the number of predictors in the model, this value is slightly lower than the unadjusted metric. It accounts for the complexity of the model and penalizes overfitting.\n",
    "Implications:\n",
    "\n",
    "3. Chi-Square Test\n",
    "The Chi-square test assesses whether the inclusion of predictors significantly improves the model’s fit compared to the null model. We can see a Chi-Square Value of 968.279 with Degrees of Freedom value 76 (number of predictors in the model, including levels of categorical variables) and P-value: p<0.001. A very low p-value indicates strong evidence that the predictors collectively improve the model's fit compared to the null model.\n",
    "\n",
    "    The high Chi-square value, coupled with a significant p-value, confirms that the predictors used in the model meaningfully contribute to explaining the variability in the likelihood of a click. The model is statistically better than the null model, indicating the predictors are relevant and collectively improve the model fit.\n",
    "\n",
    "4. Area Under the Curve (AUC): 0.792\n",
    "Indicates strong discriminatory power. AUC values above 0.7 are considered good; 0.792 suggests the model performs well in distinguishing between clicks and non-clicks.\n",
    "\n",
    "While the model is statistically significant, the relatively low Pseudo R-squared implies that other factors not included in the model may also play a significant role in predicting clicks"
   ]
  },
  {
   "cell_type": "code",
   "execution_count": 170,
   "id": "0cfc4b7a",
   "metadata": {},
   "outputs": [
    {
     "data": {
      "image/png": "[encoded data removed]",
      "text/plain": [
       "<Figure size 1000x800 with 4 Axes>"
      ]
     },
     "metadata": {},
     "output_type": "display_data"
    }
   ],
   "source": [
    "clf.plot(\"pred\", incl = [\"mobile_os\", \"impua\", \"clua\", \"ctrua\"])"
   ]
  },
  {
   "cell_type": "markdown",
   "id": "001afa63",
   "metadata": {},
   "source": [
    "1. Mobile Operating System (mobile_os)\n",
    "\n",
    "When looking at the prediction plot for mobile_os, it’s clear that the operating system plays a significant role in determining the likelihood of a click. Android users show the highest predicted probability of clicking on the ad, which suggests they’re more receptive to these impressions. On the other hand, iOS users have the lowest click probability, indicating they may be less engaged or respond differently to ads compared to Android users. Interestingly, users with \"Other\" operating systems fall somewhere in between, neither as responsive as Android users nor as resistant as iOS users.\n",
    "\n",
    "This trend could stem from various factors, such as differences in app ecosystems, user behaviors, or even how ads are presented on different platforms. Android users might be more exposed to ads or more comfortable interacting with them, which could explain their higher engagement. Conversely, iOS users might have stricter privacy settings or be less likely to click on ads due to platform-specific features. These insights suggest that targeting Android users more aggressively could be an effective strategy.\n",
    "\n",
    "2. Past Impressions of the TZ Ad Across All Apps (impua)\n",
    "\n",
    "The plot for impua the number of past impressions a user has seen for the TZ ad across all apps—shows a clear and dramatic decline in click probability as impressions increase. When users see fewer impressions, their predicted probability of clicking is relatively high. However, as impressions increase, the likelihood of clicking decreases sharply and eventually flattens near zero. This pattern reflects what’s commonly known as \"ad fatigue,\" where users become less engaged with ads they’ve seen too many times.\n",
    "\n",
    "This insight is critical for designing ad campaigns. Repeated exposure to the same ad might annoy users or make them tune out entirely, leading to diminishing returns.\n",
    "\n",
    "3. Past Clicks on the TZ Ad Across All Apps (clua)\n",
    "\n",
    "The clua plot, which represents the number of past clicks on the TZ ad by the user, tells a very different story. As the number of past clicks increases, so does the predicted probability of clicking. This positive relationship highlights the importance of past behavior as a strong predictor of future engagement. Users who have clicked on the ad one or two times before are significantly more likely to click again compared to those who have never clicked.\n",
    "\n",
    "It also suggests that focusing on users with a history of clicking ads could be a valuable strategy. This group appears to represent a reliable audience for generating clicks, making it essential to prioritize their engagement.\n",
    "\n",
    "4. Past Click-Through Rate (CTR) of the TZ Ad Across All Apps (ctrua)\n",
    "\n",
    "The plot for ctrua, which measures the past click-through rate of the TZ ad across all apps, shows a modest upward trend. As the CTR increases, the probability of clicking does increase slightly, but the effect is not as strong as it is for clua or impua. This suggests that while CTR is a positive predictor, its impact on click probability is relatively weak compared to other variables.\n",
    "\n",
    "One possible explanation is that CTR reflects general user engagement but doesn’t capture more specific behaviors like direct clicks (clua). While it’s still a useful variable for understanding ad performance, it may not be as actionable on its own for targeting purposes. That said, combining CTR data with other predictors, like past clicks, could improve targeting efficiency and help identify users with high potential for engagement.\n",
    "\n"
   ]
  },
  {
   "cell_type": "code",
   "execution_count": 171,
   "id": "fac958e1",
   "metadata": {},
   "outputs": [
    {
     "data": {
      "image/png": "[encoded data removed]",
      "text/plain": [
       "<Figure size 600x500 with 1 Axes>"
      ]
     },
     "metadata": {},
     "output_type": "display_data"
    }
   ],
   "source": [
    "clf.plot(\"vimp\", incl = [\"mobile_os\", \"impua\", \"clua\", \"ctrua\"])"
   ]
  },
  {
   "cell_type": "markdown",
   "id": "51dbad84",
   "metadata": {},
   "source": [
    "1. App -\n",
    "The app where the ad is shown is by far the most important factor in predicting clicks. When the app variable is permuted, it leads to the largest decrease in AUC, showing just how critical this feature is. It makes sense—different apps likely have different user demographics and engagement levels, which directly impact ad performance. To improve results, you could focus on optimizing ad placements in high-performing apps and even customize ad content for specific apps to match their audience.\n",
    "\n",
    "2. Past Impressions of the TZ Ad (impua) -\n",
    "The number of past impressions (impua) comes in as the second most important variable. As seen earlier, users exposed to fewer impressions are much more likely to click, while overexposure leads to ad fatigue. This strong effect on AUC highlights the importance of controlling ad frequency. Strategies like impression capping or targeting users with fewer past exposures could make a big difference in click-through rates.\n",
    "\n",
    "3. Mobile Operating System (mobile_os) -\n",
    "The operating system also plays a noticeable role in predicting clicks, although it’s not as impactful as app or impua. Android users are more likely to click compared to iOS users, making this a relevant feature for tailoring campaigns. For example, ads could be optimized specifically for Android users, or campaigns could allocate a larger budget toward Android-heavy platforms.\n",
    "\n",
    "4. Time of Day (time_fct) -\n",
    "The time of day when an impression is served has some influence on click probabilities, but it’s not a major driver of performance. Certain time slots may show higher engagement, but the overall effect is small. This suggests that while timing matters, it’s not as critical as the app or the number of impressions. Still, experimenting with ad delivery during specific hours could reveal valuable patterns.\n",
    "\n",
    "5. Past Clicks on the TZ Ad (clua) -\n",
    "The number of past clicks a user has made on TZ ads has a smaller impact on AUC. While it’s a good indicator of individual engagement (as seen in earlier plots), its contribution to the overall model performance is limited. This suggests that while past clicks are useful for targeting specific users, they’re less effective at driving the big-picture performance of the model.\n",
    "\n",
    "6. Past CTR Across Apps (ctrua) -\n",
    "Finally, past CTR has the least impact on model performance. Its effect on AUC is minimal, meaning it doesn’t add much predictive power compared to other features. This might indicate that CTR is too general to strongly influence click predictions on its own. While it can provide some context, it’s likely better used in combination with other, more impactful variables."
   ]
  },
  {
   "attachments": {},
   "cell_type": "markdown",
   "id": "83f2c3e9",
   "metadata": {
    "lines_to_next_cell": 2
   },
   "source": [
    "c. Predict the probability of a click (2 points)\n",
    "\n",
    "The estimated logistic regression model can predict the probability of `click == \"yes\"`. Create a new variable `pred_logit` with the predicted click probabilities for each impression. Make sure to generate predictions for all rows in both the training and test data."
   ]
  },
  {
   "cell_type": "code",
   "execution_count": 172,
   "id": "90e62409",
   "metadata": {},
   "outputs": [
    {
     "data": {
      "text/plain": [
       "0         3.382977e-13\n",
       "1         1.156355e-02\n",
       "2         2.655311e-03\n",
       "3         1.349420e-02\n",
       "4         1.868222e-03\n",
       "              ...     \n",
       "115482    1.132018e-02\n",
       "115483    1.093091e-03\n",
       "115484    3.609483e-03\n",
       "115485    2.052670e-02\n",
       "115486    2.192207e-02\n",
       "Name: pred_logit, Length: 115487, dtype: float64"
      ]
     },
     "execution_count": 172,
     "metadata": {},
     "output_type": "execute_result"
    }
   ],
   "source": [
    "tz_gaming[\"pred_logit\"] = clf.predict(data=tz_gaming)[\"prediction\"]\n",
    "tz_gaming[\"pred_logit\"].head(-1)"
   ]
  },
  {
   "attachments": {},
   "cell_type": "markdown",
   "id": "2c2e222a",
   "metadata": {},
   "source": [
    "d. Estimate a logistic regression with `click` as the response variable and `rnd` as the **only** explanatory variable. As before, the model should be estimated on the training sample (i.e., \"training == 'train'\"). Create a new variable `pred_rnd` with the predicted click-through probabilities (1 point)."
   ]
  },
  {
   "cell_type": "code",
   "execution_count": 173,
   "id": "d48da4cb",
   "metadata": {},
   "outputs": [
    {
     "data": {
      "text/plain": [
       "0    0.009222\n",
       "1    0.008751\n",
       "2    0.008505\n",
       "3    0.009600\n",
       "4    0.008704\n",
       "Name: pred_rnd, dtype: float64"
      ]
     },
     "execution_count": 173,
     "metadata": {},
     "output_type": "execute_result"
    }
   ],
   "source": [
    "clf_rnd = rsm.model.logistic({\"tz_gaming_train\": tz_gaming_train}, rvar=\"click\", lev=\"yes\", evar=[\"rnd\"])\n",
    "tz_gaming[\"pred_rnd\"] = clf_rnd.predict(data=tz_gaming)[\"prediction\"]\n",
    "tz_gaming[\"pred_rnd\"].head()"
   ]
  },
  {
   "attachments": {},
   "cell_type": "markdown",
   "id": "b226af89",
   "metadata": {},
   "source": [
    "## Part II: Understanding Multicollinearity and Omitted Variable Bias (10 points)"
   ]
  },
  {
   "attachments": {},
   "cell_type": "markdown",
   "id": "4b48ceb8",
   "metadata": {},
   "source": [
    "a. Estimate a logistic regression model with `click` as the response variable and `imppat`, `clpat`, and `ctrpat` as the only explanatory variables. What is the interpretation of the Prediction plots for the explanatory variables? (2 points)\n",
    "\n",
    "> Note: Make sure to watch the \"Video: TZ gaming preview (12 min)\" on Canvas before answering this questions so you fully understand what the variables represent"
   ]
  },
  {
   "cell_type": "code",
   "execution_count": 174,
   "id": "4a936edd",
   "metadata": {},
   "outputs": [
    {
     "name": "stdout",
     "output_type": "stream",
     "text": [
      "Logistic regression (GLM)\n",
      "Data                 : tz_gaming_train\n",
      "Response variable    : click\n",
      "Level                : yes\n",
      "Explanatory variables: imppat, clpat, ctrpat\n",
      "Null hyp.: There is no effect of x on click\n",
      "Alt. hyp.: There is an effect of x on click\n",
      "\n",
      "              OR     OR%  coefficient  std.error  z.value p.value     \n",
      "Intercept  0.004  -99.6%        -5.42      0.073  -74.156  < .001  ***\n",
      "imppat     1.000   -0.0%        -0.00      0.000   -4.802  < .001  ***\n",
      "clpat      1.002    0.2%         0.00      0.000    5.713  < .001  ***\n",
      "ctrpat     1.615   61.5%         0.48      0.034   13.933  < .001  ***\n",
      "\n",
      "Signif. codes:  0 '***' 0.001 '**' 0.01 '*' 0.05 '.' 0.1 ' ' 1\n",
      "\n",
      "Pseudo R-squared (McFadden): 0.035\n",
      "Pseudo R-squared (McFadden adjusted): 0.035\n",
      "Area under the RO Curve (AUC): 0.676\n",
      "Log-likelihood: -4273.088, AIC: 8554.176, BIC: 8591.695\n",
      "Chi-squared: 314.248, df(3), p.value < 0.001 \n",
      "Nr obs: 87,535\n"
     ]
    }
   ],
   "source": [
    "clf_mc1 = rsm.model.logistic({\"tz_gaming_train\": tz_gaming_train}, rvar=\"click\", lev=\"yes\", evar=[\"imppat\", \"clpat\", \"ctrpat\"])\n",
    "clf_mc1.summary()"
   ]
  },
  {
   "cell_type": "code",
   "execution_count": 175,
   "id": "78c56531",
   "metadata": {},
   "outputs": [
    {
     "name": "stdout",
     "output_type": "stream",
     "text": [
      "\n",
      "Variance inflation factors:\n",
      "\n",
      "           vif    Rsq\n",
      "clpat   26.242  0.962\n",
      "imppat  23.467  0.957\n",
      "ctrpat   1.668  0.400\n"
     ]
    }
   ],
   "source": [
    "clf_mc1.summary(main=False, fit=False, vif=True)"
   ]
  },
  {
   "cell_type": "code",
   "execution_count": 176,
   "id": "d8021441",
   "metadata": {},
   "outputs": [
    {
     "data": {
      "image/png": "[encoded data removed]",
      "text/plain": [
       "<Figure size 1000x800 with 3 Axes>"
      ]
     },
     "metadata": {},
     "output_type": "display_data"
    }
   ],
   "source": [
    "clf_mc1.plot(\"pred\", incl = [\"imppat\", \"clpat\", \"ctrpat\"])"
   ]
  },
  {
   "cell_type": "markdown",
   "id": "71c84b94",
   "metadata": {},
   "source": [
    "... discuss the results here ..."
   ]
  },
  {
   "cell_type": "markdown",
   "id": "2e80ec6a",
   "metadata": {},
   "source": [
    "\n",
    "1. imppat (Number of Past Impressions of the TZ Ad in the App and Hour) -\n",
    "The plot for imppat shows a sharp decline in the predicted probability of a click as the number of past impressions increases. Initially, when the imppat value is low, the predicted probability of a click is relatively higher, indicating that users are more likely to engage with ads they haven’t seen frequently. However, as imppat increases, the probability of a click quickly drops and eventually flattens out close to zero. This pattern reflects \"ad fatigue,\" where users become less responsive to ads they see repeatedly within the same app and hour.\n",
    "\n",
    "2. clpat (Number of Past Clicks on the TZ Ad in the App and Hour) -\n",
    "The plot for clpat tells a very different story. Here, the predicted probability of a click increases exponentially as the number of past clicks rises. Users who have previously clicked on the TZ ad in the same app and hour are significantly more likely to click again. This strong positive relationship indicates that past behavior is a reliable predictor of future engagement.\n",
    "This trend makes sense from a behavioral standpoint. Users who have already shown interest in the ad are likely finding the content relevant or appealing, making them more inclined to engage again.By identifying users with a history of clicking on ads, marketers can focus their efforts on audiences with a proven interest, maximizing the effectiveness of their campaigns.\n",
    "\n",
    "3. ctrpat (Past Click-Through Rate of the TZ Ad in the App and Hour) - \n",
    "The plot for ctrpat shows a modest upward trend in the predicted probability of a click as the past click-through rate increases. While the relationship is not as dramatic as with clpat, it still indicates that higher CTRs in the app and hour are associated with a greater likelihood of a click. This suggests that the overall engagement level within a specific context—measured by CTR is important."
   ]
  },
  {
   "attachments": {},
   "cell_type": "markdown",
   "id": "e6598f93",
   "metadata": {},
   "source": [
    "b. Some of the variables in the dataset are highly correlated with each other. In particular, `imppat` and `clpat` have a very high positive correlation of 0.97. Discuss the implications of this (very) high level of collinearity and also different approaches to deal with it. What are the implications for the model and the interpretation of the Prediction plots? As part of your answer, discuss the change in the Prediction plot for `imppat` when you remove `clpat` from the model you estimated for II.a (4 points)."
   ]
  },
  {
   "cell_type": "markdown",
   "id": "7228265e",
   "metadata": {},
   "source": [
    "> Note: Assign your new model without `clpat` to a new object `clf_mc2`. Calculate VIF statistics for each explanatory variable in the model"
   ]
  },
  {
   "cell_type": "code",
   "execution_count": 177,
   "id": "df8dc2cd",
   "metadata": {},
   "outputs": [
    {
     "name": "stdout",
     "output_type": "stream",
     "text": [
      "Logistic regression (GLM)\n",
      "Data                 : tz_gaming_train\n",
      "Response variable    : click\n",
      "Level                : yes\n",
      "Explanatory variables: imppat, ctrpat\n",
      "Null hyp.: There is no effect of x on click\n",
      "Alt. hyp.: There is an effect of x on click\n",
      "\n",
      "              OR     OR%  coefficient  std.error  z.value p.value     \n",
      "Intercept  0.004  -99.6%        -5.53      0.068  -80.814  < .001  ***\n",
      "imppat     1.000    0.0%         0.00      0.000    5.460  < .001  ***\n",
      "ctrpat     1.733   73.3%         0.55      0.030   18.422  < .001  ***\n",
      "\n",
      "Signif. codes:  0 '***' 0.001 '**' 0.01 '*' 0.05 '.' 0.1 ' ' 1\n",
      "\n",
      "Pseudo R-squared (McFadden): 0.031\n",
      "Pseudo R-squared (McFadden adjusted): 0.031\n",
      "Area under the RO Curve (AUC): 0.674\n",
      "Log-likelihood: -4290.903, AIC: 8587.805, BIC: 8615.945\n",
      "Chi-squared: 278.619, df(2), p.value < 0.001 \n",
      "Nr obs: 87,535\n"
     ]
    }
   ],
   "source": [
    "clf_mc2= rsm.model.logistic({\"tz_gaming_train\": tz_gaming_train}, rvar=\"click\", lev=\"yes\", evar=[\"imppat\", \"ctrpat\"])\n",
    "clf_mc2.summary()"
   ]
  },
  {
   "cell_type": "code",
   "execution_count": 178,
   "id": "187ea2ae",
   "metadata": {},
   "outputs": [
    {
     "name": "stdout",
     "output_type": "stream",
     "text": [
      "\n",
      "Variance inflation factors:\n",
      "\n",
      "          vif    Rsq\n",
      "imppat  1.134  0.118\n",
      "ctrpat  1.134  0.118\n"
     ]
    }
   ],
   "source": [
    "clf_mc2.summary(main=False, fit=False, vif=True)"
   ]
  },
  {
   "cell_type": "code",
   "execution_count": 179,
   "id": "d0f5556a",
   "metadata": {},
   "outputs": [
    {
     "data": {
      "image/png": "[encoded data removed]",
      "text/plain": [
       "<Figure size 1000x800 with 2 Axes>"
      ]
     },
     "metadata": {},
     "output_type": "display_data"
    }
   ],
   "source": [
    "clf_mc2.plot(\"pred\", incl = [\"imppat\", \"ctrpat\"])"
   ]
  },
  {
   "cell_type": "markdown",
   "id": "c74fc20a",
   "metadata": {},
   "source": [
    "### Implications of High Collinearity\n",
    "\n",
    "The high Variance Inflation Factors (VIF) and strong correlation between imppat and clpat (0.97) indicate a severe multicollinearity issue. This happens when two or more explanatory variables are highly correlated, making it difficult for the model to distinguish their individual effects on the response variable (click). Here are the key implications:\n",
    "\n",
    "1. Instability in Coefficient Estimates:\n",
    "\n",
    "The coefficients for imppat and clpat may become unstable or highly sensitive to small changes in the data. This makes it hard to determine which variable is truly driving the predicted probabilities.\n",
    "\n",
    "2. Reduced Interpretability: \n",
    "\n",
    "High collinearity means the model struggles to assign distinct effects to each variable, leading to challenges in interpreting their contribution.\n",
    "\n",
    "3. Inflated Variance in Coefficients:\n",
    "\n",
    "Multicollinearity inflates the standard errors of the coefficients, reducing the statistical significance of individual variables even when they may have a meaningful effect.\n",
    "\n",
    "### Approaches to Address Multicollinearity\n",
    "\n",
    "1. Remove One of the Highly Correlated Variables:\n",
    "\n",
    "Dropping clpat or imppat from the model is the simplest approach. Since clpat represents a more direct measure of engagement (actual clicks), it may be more meaningful to retain clpat and remove imppat.\n",
    "This simplifies the model, reduces collinearity, and enhances interpretability.\n",
    "\n",
    "2. Combine Variables:\n",
    "\n",
    "Create a composite variable that captures the shared information of both imppat and clpat, such as their sum or ratio.\n",
    "\n",
    "### Effect of Removal\n",
    "\n",
    "Before Removal: In the previous model with clpat, the prediction plot for imppat showed a decline in the probability of a click as imppat increased. This suggested a negative relationship between past impressions of the ad and user engagement, which aligned with the idea of \"ad fatigue.\"\n",
    "\n",
    "After Removal: Now, the prediction plot for imppat shows an increasing relationship, where the probability of a click grows steadily as the number of past impressions increases. Without clpat in the model, imppat is absorbing some of the predictive power that was previously shared with clpat. This suggests that the model is now treating imppat as a proxy for both impressions and clicks.\n",
    "\n",
    "The model's interpretation of imppat has shifted significantly. Instead of indicating diminishing returns, imppat is now positively associated with click probability. This change demonstrates how high collinearity can distort the interpretation of variables, as the removal of one variable forces the model to reallocate its effects to the remaining correlated variables."
   ]
  },
  {
   "attachments": {},
   "cell_type": "markdown",
   "id": "7683d2e9",
   "metadata": {},
   "source": [
    "c. Estimate another logistic regression model with `click` as the response variable and `time_fct`, `app`, `imppat`, `clpat`, and `ctrpat` as the explanatory variable. Why are the Prediction plots for `imppat`, `clpat`, and `ctrpat` different compared to the plots from the model you estimated in II.a? Please be specific and investigate beyond simply stating the statistical problem (4 points).\n",
    "\n",
    "> Note: You may want to test if a (set of) coefficients are equal to 0 (or Odds-ratios are equal to 1)"
   ]
  },
  {
   "cell_type": "code",
   "execution_count": 180,
   "id": "684ddad0",
   "metadata": {},
   "outputs": [
    {
     "name": "stdout",
     "output_type": "stream",
     "text": [
      "Logistic regression (GLM)\n",
      "Data                 : tz_gaming_train\n",
      "Response variable    : click\n",
      "Level                : yes\n",
      "Explanatory variables: imppat, clpat, ctrpat, app, time_fct\n",
      "Null hyp.: There is no effect of x on click\n",
      "Alt. hyp.: There is an effect of x on click\n",
      "\n",
      "                 OR      OR%  coefficient   std.error  z.value p.value     \n",
      "Intercept     0.012   -98.8%        -4.42       0.284  -15.575  < .001  ***\n",
      "app[app2]     0.136   -86.4%        -2.00       0.351   -5.681  < .001  ***\n",
      "app[app3]     0.187   -81.3%        -1.67       1.016   -1.649   0.099    .\n",
      "app[app4]     0.487   -51.3%        -0.72       0.359   -2.004   0.045    *\n",
      "app[app5]     0.413   -58.7%        -0.88       1.011   -0.874   0.382     \n",
      "app[app6]     1.007     0.7%         0.01       0.216    0.034   0.973     \n",
      "app[app7]     0.708   -29.2%        -0.35       1.019   -0.340   0.734     \n",
      "app[app8]     0.000  -100.0%       -24.11   72717.594   -0.000     1.0     \n",
      "app[app9]     0.935    -6.5%        -0.07       0.271   -0.248   0.804     \n",
      "app[app10]    0.000  -100.0%       -24.02   75559.599   -0.000     1.0     \n",
      "app[app11]    1.365    36.5%         0.31       0.752    0.414   0.679     \n",
      "app[app12]    0.575   -42.5%        -0.55       0.274   -2.022   0.043    *\n",
      "app[app13]    2.790   179.0%         1.03       0.504    2.037   0.042    *\n",
      "app[app14]    0.246   -75.4%        -1.40       0.479   -2.927   0.003   **\n",
      "app[app15]    0.773   -22.7%        -0.26       0.723   -0.357   0.721     \n",
      "app[app16]    0.381   -61.9%        -0.96       0.733   -1.316   0.188     \n",
      "app[app17]    1.502    50.2%         0.41       0.727    0.560   0.576     \n",
      "app[app18]    0.108   -89.2%        -2.23       1.016   -2.190   0.029    *\n",
      "app[app19]    0.000  -100.0%       -24.05   93787.196   -0.000     1.0     \n",
      "app[app20]    0.000  -100.0%       -24.14   73366.877   -0.000     1.0     \n",
      "app[app21]    0.475   -52.5%        -0.74       0.416   -1.789   0.074    .\n",
      "app[app22]    0.517   -48.3%        -0.66       1.019   -0.648   0.517     \n",
      "app[app23]    3.549   254.9%         1.27       0.419    3.023   0.003   **\n",
      "app[app24]    2.411   141.1%         0.88       0.363    2.421   0.015    *\n",
      "app[app25]    1.571    57.1%         0.45       0.612    0.738    0.46     \n",
      "app[app26]    0.000  -100.0%       -24.07   63336.276   -0.000     1.0     \n",
      "app[app27]    0.292   -70.8%        -1.23       0.731   -1.683   0.092    .\n",
      "app[app28]    0.318   -68.2%        -1.14       0.603   -1.897   0.058    .\n",
      "app[app29]    2.584   158.4%         0.95       0.379    2.502   0.012    *\n",
      "app[app30]    0.000  -100.0%       -24.08   87078.077   -0.000     1.0     \n",
      "app[app31]    0.164   -83.6%        -1.81       0.735   -2.460   0.014    *\n",
      "app[app32]    0.000  -100.0%       -24.04   56046.291   -0.000     1.0     \n",
      "app[app33]    0.524   -47.6%        -0.65       0.376   -1.720   0.086    .\n",
      "app[app34]    0.000  -100.0%       -24.01   55897.140   -0.000     1.0     \n",
      "app[app35]    0.357   -64.3%        -1.03       1.019   -1.011   0.312     \n",
      "app[app36]    0.000  -100.0%       -24.00   78847.008   -0.000     1.0     \n",
      "app[app37]    0.741   -25.9%        -0.30       0.732   -0.410   0.682     \n",
      "app[app38]    0.000  -100.0%       -24.04   55273.917   -0.000     1.0     \n",
      "app[app39]    2.349   134.9%         0.85       0.449    1.904   0.057    .\n",
      "app[app40]    1.625    62.5%         0.49       0.530    0.915    0.36     \n",
      "app[app41]    0.816   -18.4%        -0.20       0.725   -0.281   0.779     \n",
      "app[app42]    2.909   190.9%         1.07       0.452    2.363   0.018    *\n",
      "app[app43]    0.000  -100.0%       -24.11   75901.133   -0.000     1.0     \n",
      "app[app44]    0.000  -100.0%       -24.05   46569.636   -0.001     1.0     \n",
      "app[app45]    1.920    92.0%         0.65       0.604    1.079   0.281     \n",
      "app[app46]    0.466   -53.4%        -0.76       1.020   -0.748   0.455     \n",
      "app[app47]    0.406   -59.4%        -0.90       1.012   -0.891   0.373     \n",
      "app[app48]    0.000  -100.0%       -24.05  106095.563   -0.000     1.0     \n",
      "app[app49]    0.259   -74.1%        -1.35       1.019   -1.324   0.185     \n",
      "time_fct[2]   0.588   -41.2%        -0.53       0.323   -1.644     0.1     \n",
      "time_fct[3]   0.693   -30.7%        -0.37       0.461   -0.795   0.426     \n",
      "time_fct[4]   0.000  -100.0%       -23.83   43904.903   -0.001     1.0     \n",
      "time_fct[5]   0.000  -100.0%       -23.86   57249.164   -0.000     1.0     \n",
      "time_fct[6]   0.359   -64.1%        -1.03       1.027   -0.999   0.318     \n",
      "time_fct[7]   1.220    22.0%         0.20       0.438    0.453    0.65     \n",
      "time_fct[8]   1.135    13.5%         0.13       0.309    0.411   0.681     \n",
      "time_fct[9]   1.063     6.3%         0.06       0.299    0.203   0.839     \n",
      "time_fct[10]  0.843   -15.7%        -0.17       0.303   -0.561   0.575     \n",
      "time_fct[11]  0.637   -36.3%        -0.45       0.288   -1.565   0.118     \n",
      "time_fct[12]  0.834   -16.6%        -0.18       0.292   -0.620   0.535     \n",
      "time_fct[13]  0.535   -46.5%        -0.63       0.306   -2.047   0.041    *\n",
      "time_fct[14]  0.982    -1.8%        -0.02       0.257   -0.069   0.945     \n",
      "time_fct[15]  0.840   -16.0%        -0.17       0.272   -0.639   0.523     \n",
      "time_fct[16]  0.874   -12.6%        -0.13       0.279   -0.483   0.629     \n",
      "time_fct[17]  0.864   -13.6%        -0.15       0.296   -0.493   0.622     \n",
      "time_fct[18]  0.942    -5.8%        -0.06       0.286   -0.208   0.835     \n",
      "time_fct[19]  1.178    17.8%         0.16       0.251    0.651   0.515     \n",
      "time_fct[20]  1.188    18.8%         0.17       0.247    0.698   0.485     \n",
      "time_fct[21]  0.782   -21.8%        -0.25       0.261   -0.942   0.346     \n",
      "time_fct[22]  0.933    -6.7%        -0.07       0.259   -0.267   0.789     \n",
      "time_fct[23]  0.993    -0.7%        -0.01       0.268   -0.025    0.98     \n",
      "time_fct[24]  1.134    13.4%         0.13       0.258    0.486   0.627     \n",
      "imppat        1.000    -0.0%        -0.00       0.000   -1.131   0.258     \n",
      "clpat         1.001     0.1%         0.00       0.001    1.135   0.256     \n",
      "ctrpat        1.077     7.7%         0.07       0.117    0.637   0.524     \n",
      "\n",
      "Signif. codes:  0 '***' 0.001 '**' 0.01 '*' 0.05 '.' 0.1 ' ' 1\n",
      "\n",
      "Pseudo R-squared (McFadden): 0.056\n",
      "Pseudo R-squared (McFadden adjusted): 0.04\n",
      "Area under the RO Curve (AUC): 0.704\n",
      "Log-likelihood: -4180.646, AIC: 8511.292, BIC: 9214.776\n",
      "Chi-squared: 499.132, df(74), p.value < 0.001 \n",
      "Nr obs: 87,535\n"
     ]
    }
   ],
   "source": [
    "clf_mc3 = rsm.model.logistic({\"tz_gaming_train\": tz_gaming_train}, rvar=\"click\", lev=\"yes\", evar=[\"imppat\", \"clpat\", \"ctrpat\", \"app\", \"time_fct\"])\n",
    "clf_mc3.summary()"
   ]
  },
  {
   "cell_type": "code",
   "execution_count": 181,
   "id": "7f64ad5b",
   "metadata": {},
   "outputs": [
    {
     "data": {
      "image/png": "[encoded data removed]",
      "text/plain": [
       "<Figure size 1000x800 with 3 Axes>"
      ]
     },
     "metadata": {},
     "output_type": "display_data"
    }
   ],
   "source": [
    "clf_mc3.plot(\"pred\", incl = [\"imppat\", \"clpat\", \"ctrpat\"])"
   ]
  },
  {
   "cell_type": "markdown",
   "id": "14e5d3da",
   "metadata": {},
   "source": [
    "The prediction plots for imppat, clpat, and ctrpat differ in this model because the inclusion of time_fct and app changes how the model attributes click probability to each variable. The changes reflect a more nuanced understanding of the data, where time_fct and app absorb some of the contextual and behavioral patterns, allowing imppat, clpat, and ctrpat to exhibit their true effects. This highlights the importance of carefully selecting explanatory variables to address multicollinearity and capture the full complexity of user behavior."
   ]
  },
  {
   "cell_type": "markdown",
   "id": "1914626a",
   "metadata": {},
   "source": [
    "## Part III: Decile Analysis of Logistic Regression Results (5 points)\n",
    "\n",
    "> Note: For the following questions, use only the \"test\" sample of impressions (i.e., 27,953 rows where \"training == 'test'\")\n"
   ]
  },
  {
   "attachments": {},
   "cell_type": "markdown",
   "id": "967c4929",
   "metadata": {},
   "source": [
    "a. Assign each impression to a decile based on the predicted probability of a click (`pred_logit`) based on the model estimated in I.a. Create a new variable `pred_logit_dec` that captures this information. Note: The first decile should have the highest average click rate. If not, make sure to \"reverse\" the decile numbers (i.e., 10 becomes 1, 9 becomes 2, etc.). Use the `xtile` function from the `pyrsm` package to create the deciles (2 points)"
   ]
  },
  {
   "cell_type": "code",
   "execution_count": 182,
   "id": "98956dfc",
   "metadata": {},
   "outputs": [
    {
     "data": {
      "text/html": [
       "<div>\n",
       "<style scoped>\n",
       "    .dataframe tbody tr th:only-of-type {\n",
       "        vertical-align: middle;\n",
       "    }\n",
       "\n",
       "    .dataframe tbody tr th {\n",
       "        vertical-align: top;\n",
       "    }\n",
       "\n",
       "    .dataframe thead th {\n",
       "        text-align: right;\n",
       "    }\n",
       "</style>\n",
       "<table border=\"1\" class=\"dataframe\">\n",
       "  <thead>\n",
       "    <tr style=\"text-align: right;\">\n",
       "      <th></th>\n",
       "      <th>training</th>\n",
       "      <th>inum</th>\n",
       "      <th>click</th>\n",
       "      <th>time</th>\n",
       "      <th>time_fct</th>\n",
       "      <th>app</th>\n",
       "      <th>mobile_os</th>\n",
       "      <th>impup</th>\n",
       "      <th>clup</th>\n",
       "      <th>ctrup</th>\n",
       "      <th>...</th>\n",
       "      <th>clut</th>\n",
       "      <th>ctrut</th>\n",
       "      <th>imppat</th>\n",
       "      <th>clpat</th>\n",
       "      <th>ctrpat</th>\n",
       "      <th>rnd</th>\n",
       "      <th>pred_vneta</th>\n",
       "      <th>id</th>\n",
       "      <th>pred_logit</th>\n",
       "      <th>pred_rnd</th>\n",
       "    </tr>\n",
       "  </thead>\n",
       "  <tbody>\n",
       "    <tr>\n",
       "      <th>87535</th>\n",
       "      <td>test</td>\n",
       "      <td>I300002</td>\n",
       "      <td>no</td>\n",
       "      <td>21</td>\n",
       "      <td>21</td>\n",
       "      <td>app1</td>\n",
       "      <td>android</td>\n",
       "      <td>1458</td>\n",
       "      <td>3</td>\n",
       "      <td>0.205761</td>\n",
       "      <td>...</td>\n",
       "      <td>0</td>\n",
       "      <td>0.000000</td>\n",
       "      <td>68113</td>\n",
       "      <td>957</td>\n",
       "      <td>1.405018</td>\n",
       "      <td>0.147891</td>\n",
       "      <td>0.003961</td>\n",
       "      <td>id466983</td>\n",
       "      <td>1.020981e-02</td>\n",
       "      <td>0.008791</td>\n",
       "    </tr>\n",
       "    <tr>\n",
       "      <th>87536</th>\n",
       "      <td>test</td>\n",
       "      <td>I300006</td>\n",
       "      <td>no</td>\n",
       "      <td>3</td>\n",
       "      <td>3</td>\n",
       "      <td>app40</td>\n",
       "      <td>ios</td>\n",
       "      <td>3</td>\n",
       "      <td>0</td>\n",
       "      <td>0.000000</td>\n",
       "      <td>...</td>\n",
       "      <td>0</td>\n",
       "      <td>0.000000</td>\n",
       "      <td>50</td>\n",
       "      <td>0</td>\n",
       "      <td>0.000000</td>\n",
       "      <td>0.383246</td>\n",
       "      <td>0.018965</td>\n",
       "      <td>id946375</td>\n",
       "      <td>8.665095e-03</td>\n",
       "      <td>0.008718</td>\n",
       "    </tr>\n",
       "    <tr>\n",
       "      <th>87537</th>\n",
       "      <td>test</td>\n",
       "      <td>I300012</td>\n",
       "      <td>no</td>\n",
       "      <td>5</td>\n",
       "      <td>5</td>\n",
       "      <td>app12</td>\n",
       "      <td>android</td>\n",
       "      <td>5057</td>\n",
       "      <td>6</td>\n",
       "      <td>0.118647</td>\n",
       "      <td>...</td>\n",
       "      <td>0</td>\n",
       "      <td>0.000000</td>\n",
       "      <td>754</td>\n",
       "      <td>8</td>\n",
       "      <td>1.061008</td>\n",
       "      <td>1.274485</td>\n",
       "      <td>0.003961</td>\n",
       "      <td>id479295</td>\n",
       "      <td>1.910723e-14</td>\n",
       "      <td>0.008448</td>\n",
       "    </tr>\n",
       "    <tr>\n",
       "      <th>87538</th>\n",
       "      <td>test</td>\n",
       "      <td>I300015</td>\n",
       "      <td>no</td>\n",
       "      <td>10</td>\n",
       "      <td>10</td>\n",
       "      <td>app1</td>\n",
       "      <td>android</td>\n",
       "      <td>1993</td>\n",
       "      <td>10</td>\n",
       "      <td>0.501756</td>\n",
       "      <td>...</td>\n",
       "      <td>0</td>\n",
       "      <td>0.000000</td>\n",
       "      <td>26537</td>\n",
       "      <td>276</td>\n",
       "      <td>1.040057</td>\n",
       "      <td>0.673022</td>\n",
       "      <td>0.003961</td>\n",
       "      <td>id83284</td>\n",
       "      <td>6.240407e-03</td>\n",
       "      <td>0.008630</td>\n",
       "    </tr>\n",
       "    <tr>\n",
       "      <th>87539</th>\n",
       "      <td>test</td>\n",
       "      <td>I300016</td>\n",
       "      <td>no</td>\n",
       "      <td>14</td>\n",
       "      <td>14</td>\n",
       "      <td>app1</td>\n",
       "      <td>ios</td>\n",
       "      <td>212</td>\n",
       "      <td>7</td>\n",
       "      <td>3.301887</td>\n",
       "      <td>...</td>\n",
       "      <td>1</td>\n",
       "      <td>5.263158</td>\n",
       "      <td>57348</td>\n",
       "      <td>874</td>\n",
       "      <td>1.524029</td>\n",
       "      <td>-0.785851</td>\n",
       "      <td>0.050679</td>\n",
       "      <td>id359434</td>\n",
       "      <td>1.233449e-02</td>\n",
       "      <td>0.009086</td>\n",
       "    </tr>\n",
       "  </tbody>\n",
       "</table>\n",
       "<p>5 rows × 24 columns</p>\n",
       "</div>"
      ],
      "text/plain": [
       "      training     inum click  time time_fct    app mobile_os  impup  clup  \\\n",
       "87535     test  I300002    no    21       21   app1   android   1458     3   \n",
       "87536     test  I300006    no     3        3  app40       ios      3     0   \n",
       "87537     test  I300012    no     5        5  app12   android   5057     6   \n",
       "87538     test  I300015    no    10       10   app1   android   1993    10   \n",
       "87539     test  I300016    no    14       14   app1       ios    212     7   \n",
       "\n",
       "          ctrup  ...  clut     ctrut  imppat  clpat    ctrpat       rnd  \\\n",
       "87535  0.205761  ...     0  0.000000   68113    957  1.405018  0.147891   \n",
       "87536  0.000000  ...     0  0.000000      50      0  0.000000  0.383246   \n",
       "87537  0.118647  ...     0  0.000000     754      8  1.061008  1.274485   \n",
       "87538  0.501756  ...     0  0.000000   26537    276  1.040057  0.673022   \n",
       "87539  3.301887  ...     1  5.263158   57348    874  1.524029 -0.785851   \n",
       "\n",
       "       pred_vneta        id    pred_logit  pred_rnd  \n",
       "87535    0.003961  id466983  1.020981e-02  0.008791  \n",
       "87536    0.018965  id946375  8.665095e-03  0.008718  \n",
       "87537    0.003961  id479295  1.910723e-14  0.008448  \n",
       "87538    0.003961   id83284  6.240407e-03  0.008630  \n",
       "87539    0.050679  id359434  1.233449e-02  0.009086  \n",
       "\n",
       "[5 rows x 24 columns]"
      ]
     },
     "execution_count": 182,
     "metadata": {},
     "output_type": "execute_result"
    }
   ],
   "source": [
    "tz_gaming_test = tz_gaming[tz_gaming['training'] == 'test']\n",
    "tz_gaming_test.head()"
   ]
  },
  {
   "cell_type": "code",
   "execution_count": 183,
   "id": "b0da10ec",
   "metadata": {},
   "outputs": [
    {
     "name": "stdout",
     "output_type": "stream",
     "text": [
      "       training     inum click  time time_fct    app mobile_os  impup  clup  \\\n",
      "0         train       I7    no     9        9   app8       ios    439     2   \n",
      "1         train      I23    no    15       15   app1       ios     64     0   \n",
      "2         train      I28    no    12       12   app5       ios     80     0   \n",
      "3         train      I30    no    19       19   app1       ios     25     0   \n",
      "4         train      I35    no    24       24   app1   android   3834    29   \n",
      "...         ...      ...   ...   ...      ...    ...       ...    ...   ...   \n",
      "115483     test  I399982    no    21       21   app2       ios   2110     0   \n",
      "115484     test  I399986    no    17       17  app14   android    291     1   \n",
      "115485     test  I399991    no    23       23   app1   android    364     3   \n",
      "115486     test  I399992    no    20       20   app6   android     59     2   \n",
      "115487     test  I399994    no    18       18   app1       ios    498     7   \n",
      "\n",
      "           ctrup  ...     ctrut  imppat  clpat    ctrpat       rnd  \\\n",
      "0       0.455581  ...  0.000000      71      1  1.408451 -1.207066   \n",
      "1       0.000000  ...  0.000000   67312   1069  1.588127  0.277429   \n",
      "2       0.000000  ...  0.000000     331      1  0.302115  1.084441   \n",
      "3       0.000000  ...  0.000000   71114   1001  1.407599 -2.345698   \n",
      "4       0.756390  ...  1.215805  183852   2317  1.260253  0.429125   \n",
      "...          ...  ...       ...     ...    ...       ...       ...   \n",
      "115483  0.000000  ...  0.000000   23216     19  0.081840 -1.852059   \n",
      "115484  0.343643  ...  1.351351    3665     14  0.381992 -0.296415   \n",
      "115485  0.824176  ...  0.000000  173353   2292  1.322158  0.099201   \n",
      "115486  3.389831  ...  2.702703    3474     53  1.525619 -0.186421   \n",
      "115487  1.405622  ...  1.886792   77884   1201  1.542037  0.857281   \n",
      "\n",
      "        pred_vneta        id    pred_logit  pred_rnd  pred_logit_dec  \n",
      "0         0.003961  id247135  3.382977e-13  0.009222             NaN  \n",
      "1         0.003961  id245079  1.156355e-02  0.008751             NaN  \n",
      "2         0.003961  id927245  2.655311e-03  0.008505             NaN  \n",
      "3         0.018965  id922188  1.349420e-02  0.009600             NaN  \n",
      "4         0.003961  id355833  1.868222e-03  0.008704             NaN  \n",
      "...            ...       ...           ...       ...             ...  \n",
      "115483    0.003961  id847352  1.093091e-03  0.009435             8.0  \n",
      "115484    0.003961  id457437  3.609483e-03  0.008930             6.0  \n",
      "115485    0.003961  id792352  2.052670e-02  0.008806             2.0  \n",
      "115486    0.050679  id115678  2.192207e-02  0.008896             1.0  \n",
      "115487    0.003961  id705546  1.170346e-02  0.008574             3.0  \n",
      "\n",
      "[115488 rows x 25 columns]\n"
     ]
    }
   ],
   "source": [
    "tz_gaming[\"pred_logit_dec\"] = (tz_gaming_test\n",
    "    .groupby(\"training\")\n",
    "    .pred_logit\n",
    "    .transform(rsm.xtile, 10, rev=True)\n",
    ")\n",
    "\n",
    "print(tz_gaming)"
   ]
  },
  {
   "attachments": {},
   "cell_type": "markdown",
   "id": "5891e241",
   "metadata": {},
   "source": [
    "b. Report the number of impressions (rows), the number of clicks (`click`), and the click through rate (`ctr`) (i.e., sum of clicks divided by number of impressions) for the TZ ad per decile and save this information to a new dataframe called `dec_tab` (2 points)"
   ]
  },
  {
   "cell_type": "code",
   "execution_count": 184,
   "id": "9bee1054",
   "metadata": {},
   "outputs": [
    {
     "data": {
      "text/html": [
       "<div>\n",
       "<style scoped>\n",
       "    .dataframe tbody tr th:only-of-type {\n",
       "        vertical-align: middle;\n",
       "    }\n",
       "\n",
       "    .dataframe tbody tr th {\n",
       "        vertical-align: top;\n",
       "    }\n",
       "\n",
       "    .dataframe thead th {\n",
       "        text-align: right;\n",
       "    }\n",
       "</style>\n",
       "<table border=\"1\" class=\"dataframe\">\n",
       "  <thead>\n",
       "    <tr style=\"text-align: right;\">\n",
       "      <th></th>\n",
       "      <th>pred_logit_dec</th>\n",
       "      <th>nr_impressions</th>\n",
       "      <th>nr_clicks</th>\n",
       "      <th>ctr</th>\n",
       "    </tr>\n",
       "  </thead>\n",
       "  <tbody>\n",
       "    <tr>\n",
       "      <th>0</th>\n",
       "      <td>1.0</td>\n",
       "      <td>2796</td>\n",
       "      <td>103</td>\n",
       "      <td>0.036838</td>\n",
       "    </tr>\n",
       "    <tr>\n",
       "      <th>1</th>\n",
       "      <td>2.0</td>\n",
       "      <td>2793</td>\n",
       "      <td>48</td>\n",
       "      <td>0.017186</td>\n",
       "    </tr>\n",
       "    <tr>\n",
       "      <th>2</th>\n",
       "      <td>3.0</td>\n",
       "      <td>2788</td>\n",
       "      <td>42</td>\n",
       "      <td>0.015065</td>\n",
       "    </tr>\n",
       "    <tr>\n",
       "      <th>3</th>\n",
       "      <td>4.0</td>\n",
       "      <td>2796</td>\n",
       "      <td>30</td>\n",
       "      <td>0.010730</td>\n",
       "    </tr>\n",
       "    <tr>\n",
       "      <th>4</th>\n",
       "      <td>5.0</td>\n",
       "      <td>2802</td>\n",
       "      <td>15</td>\n",
       "      <td>0.005353</td>\n",
       "    </tr>\n",
       "    <tr>\n",
       "      <th>5</th>\n",
       "      <td>6.0</td>\n",
       "      <td>2796</td>\n",
       "      <td>7</td>\n",
       "      <td>0.002504</td>\n",
       "    </tr>\n",
       "    <tr>\n",
       "      <th>6</th>\n",
       "      <td>7.0</td>\n",
       "      <td>2794</td>\n",
       "      <td>7</td>\n",
       "      <td>0.002505</td>\n",
       "    </tr>\n",
       "    <tr>\n",
       "      <th>7</th>\n",
       "      <td>8.0</td>\n",
       "      <td>2796</td>\n",
       "      <td>3</td>\n",
       "      <td>0.001073</td>\n",
       "    </tr>\n",
       "    <tr>\n",
       "      <th>8</th>\n",
       "      <td>9.0</td>\n",
       "      <td>2796</td>\n",
       "      <td>4</td>\n",
       "      <td>0.001431</td>\n",
       "    </tr>\n",
       "    <tr>\n",
       "      <th>9</th>\n",
       "      <td>10.0</td>\n",
       "      <td>2796</td>\n",
       "      <td>12</td>\n",
       "      <td>0.004292</td>\n",
       "    </tr>\n",
       "  </tbody>\n",
       "</table>\n",
       "</div>"
      ],
      "text/plain": [
       "   pred_logit_dec  nr_impressions  nr_clicks       ctr\n",
       "0             1.0            2796        103  0.036838\n",
       "1             2.0            2793         48  0.017186\n",
       "2             3.0            2788         42  0.015065\n",
       "3             4.0            2796         30  0.010730\n",
       "4             5.0            2802         15  0.005353\n",
       "5             6.0            2796          7  0.002504\n",
       "6             7.0            2794          7  0.002505\n",
       "7             8.0            2796          3  0.001073\n",
       "8             9.0            2796          4  0.001431\n",
       "9            10.0            2796         12  0.004292"
      ]
     },
     "execution_count": 184,
     "metadata": {},
     "output_type": "execute_result"
    }
   ],
   "source": [
    "# your data frame should have columns called 'nr_impressions', 'nr_clicks', and 'ctr'\n",
    "# to calculate these values you need deciles, the number of rows (impressions)\n",
    "# in each decile, the number of clicks in each decile using the `click` variable,\n",
    "# and the ratio of clicks to impressions (ctr)\n",
    "dec_tab = (\n",
    "    tz_gaming[tz_gaming\n",
    "    [\"training\"] == \"test\"]\n",
    "        .groupby(\"pred_logit_dec\")\n",
    "        .agg(\n",
    "            nr_impressions=(\"pred_logit\", \"count\"),\n",
    "            nr_clicks=(\"click\", lambda x: (x == \"yes\").sum()),\n",
    "            ctr=(\"click\", lambda x: (x == \"yes\").sum() / len(x))\n",
    "        )\n",
    "        .reset_index()\n",
    "    )\n",
    "\n",
    "dec_tab"
   ]
  },
  {
   "attachments": {},
   "cell_type": "markdown",
   "id": "395633c9",
   "metadata": {},
   "source": [
    "c. Create a bar chart of click-through rates per decile (i.e., use `pred_logit_dec` as the x-variable and `ctr` as the y-variable). Note that the \"click-through rate\" is not the same as the \"predicted probability of click.\" The click-through rate captures the proportion of impressions in a given group (e.g., in a decile) that actually resulted in a click (1 point)"
   ]
  },
  {
   "cell_type": "code",
   "execution_count": 185,
   "id": "3373269e",
   "metadata": {},
   "outputs": [
    {
     "data": {
      "image/png": "[encoded data removed]",
      "text/plain": [
       "<Figure size 1000x600 with 1 Axes>"
      ]
     },
     "metadata": {},
     "output_type": "display_data"
    }
   ],
   "source": [
    "import matplotlib.pyplot as plt\n",
    "\n",
    "plt.figure(figsize=(10, 6))\n",
    "plt.bar(dec_tab[\"pred_logit_dec\"], dec_tab[\"ctr\"], width=0.8, edgecolor=\"black\")\n",
    "plt.axhline(y=dec_tab[\"ctr\"].mean(), color=\"red\", linestyle=\"--\", label=\"Mean CTR\")\n",
    "\n",
    "plt.title(\"Click-Through Rates per Decile\", fontsize=14)\n",
    "plt.xlabel(\"Predicted Logit Decile\", fontsize=12)\n",
    "plt.ylabel(\"Click-Through Rate (CTR)\", fontsize=12)\n",
    "plt.xticks(dec_tab[\"pred_logit_dec\"], fontsize=10)\n",
    "plt.yticks(fontsize=10)\n",
    "plt.grid(axis=\"y\", linestyle=\"--\", alpha=0.7)\n",
    "\n",
    "plt.show()\n"
   ]
  },
  {
   "cell_type": "markdown",
   "id": "e7d58aeb",
   "metadata": {},
   "source": [
    "## Part IV: Gains Curves (15 points)"
   ]
  },
  {
   "attachments": {},
   "cell_type": "markdown",
   "id": "dcbadd21",
   "metadata": {},
   "source": [
    "Use the `dec_tab` DataFrame you created in Part III for the following calculations.\n",
    "\n",
    "a. Write python code to generate a table with the cumulative proportion of impressions and the cumulative gains for each decile (8 points)\n",
    "\n",
    "> Note: Do NOT use any specialized python packages to construct the gains table. Write the python code from scratch. Feel free use ChatGPT or CoPilot, but make sure that it does not use any specialized packages to construct the gains table. Be prepared to discuss the code you submit for this question in class if called upon"
   ]
  },
  {
   "cell_type": "code",
   "execution_count": 186,
   "id": "01e49bcf",
   "metadata": {},
   "outputs": [
    {
     "data": {
      "text/html": [
       "<div>\n",
       "<style scoped>\n",
       "    .dataframe tbody tr th:only-of-type {\n",
       "        vertical-align: middle;\n",
       "    }\n",
       "\n",
       "    .dataframe tbody tr th {\n",
       "        vertical-align: top;\n",
       "    }\n",
       "\n",
       "    .dataframe thead th {\n",
       "        text-align: right;\n",
       "    }\n",
       "</style>\n",
       "<table border=\"1\" class=\"dataframe\">\n",
       "  <thead>\n",
       "    <tr style=\"text-align: right;\">\n",
       "      <th></th>\n",
       "      <th>pred_logit_dec</th>\n",
       "      <th>nr_impressions</th>\n",
       "      <th>nr_clicks</th>\n",
       "      <th>ctr</th>\n",
       "      <th>cum_prop</th>\n",
       "      <th>cum_gains</th>\n",
       "    </tr>\n",
       "  </thead>\n",
       "  <tbody>\n",
       "    <tr>\n",
       "      <th>0</th>\n",
       "      <td>1.0</td>\n",
       "      <td>2796</td>\n",
       "      <td>103</td>\n",
       "      <td>0.036838</td>\n",
       "      <td>0.100025</td>\n",
       "      <td>0.380074</td>\n",
       "    </tr>\n",
       "    <tr>\n",
       "      <th>1</th>\n",
       "      <td>2.0</td>\n",
       "      <td>2793</td>\n",
       "      <td>48</td>\n",
       "      <td>0.017186</td>\n",
       "      <td>0.199943</td>\n",
       "      <td>0.557196</td>\n",
       "    </tr>\n",
       "    <tr>\n",
       "      <th>2</th>\n",
       "      <td>3.0</td>\n",
       "      <td>2788</td>\n",
       "      <td>42</td>\n",
       "      <td>0.015065</td>\n",
       "      <td>0.299682</td>\n",
       "      <td>0.712177</td>\n",
       "    </tr>\n",
       "    <tr>\n",
       "      <th>3</th>\n",
       "      <td>4.0</td>\n",
       "      <td>2796</td>\n",
       "      <td>30</td>\n",
       "      <td>0.010730</td>\n",
       "      <td>0.399707</td>\n",
       "      <td>0.822878</td>\n",
       "    </tr>\n",
       "    <tr>\n",
       "      <th>4</th>\n",
       "      <td>5.0</td>\n",
       "      <td>2802</td>\n",
       "      <td>15</td>\n",
       "      <td>0.005353</td>\n",
       "      <td>0.499946</td>\n",
       "      <td>0.878229</td>\n",
       "    </tr>\n",
       "    <tr>\n",
       "      <th>5</th>\n",
       "      <td>6.0</td>\n",
       "      <td>2796</td>\n",
       "      <td>7</td>\n",
       "      <td>0.002504</td>\n",
       "      <td>0.599971</td>\n",
       "      <td>0.904059</td>\n",
       "    </tr>\n",
       "    <tr>\n",
       "      <th>6</th>\n",
       "      <td>7.0</td>\n",
       "      <td>2794</td>\n",
       "      <td>7</td>\n",
       "      <td>0.002505</td>\n",
       "      <td>0.699925</td>\n",
       "      <td>0.929889</td>\n",
       "    </tr>\n",
       "    <tr>\n",
       "      <th>7</th>\n",
       "      <td>8.0</td>\n",
       "      <td>2796</td>\n",
       "      <td>3</td>\n",
       "      <td>0.001073</td>\n",
       "      <td>0.799950</td>\n",
       "      <td>0.940959</td>\n",
       "    </tr>\n",
       "    <tr>\n",
       "      <th>8</th>\n",
       "      <td>9.0</td>\n",
       "      <td>2796</td>\n",
       "      <td>4</td>\n",
       "      <td>0.001431</td>\n",
       "      <td>0.899975</td>\n",
       "      <td>0.955720</td>\n",
       "    </tr>\n",
       "    <tr>\n",
       "      <th>9</th>\n",
       "      <td>10.0</td>\n",
       "      <td>2796</td>\n",
       "      <td>12</td>\n",
       "      <td>0.004292</td>\n",
       "      <td>1.000000</td>\n",
       "      <td>1.000000</td>\n",
       "    </tr>\n",
       "  </tbody>\n",
       "</table>\n",
       "</div>"
      ],
      "text/plain": [
       "   pred_logit_dec  nr_impressions  nr_clicks       ctr  cum_prop  cum_gains\n",
       "0             1.0            2796        103  0.036838  0.100025   0.380074\n",
       "1             2.0            2793         48  0.017186  0.199943   0.557196\n",
       "2             3.0            2788         42  0.015065  0.299682   0.712177\n",
       "3             4.0            2796         30  0.010730  0.399707   0.822878\n",
       "4             5.0            2802         15  0.005353  0.499946   0.878229\n",
       "5             6.0            2796          7  0.002504  0.599971   0.904059\n",
       "6             7.0            2794          7  0.002505  0.699925   0.929889\n",
       "7             8.0            2796          3  0.001073  0.799950   0.940959\n",
       "8             9.0            2796          4  0.001431  0.899975   0.955720\n",
       "9            10.0            2796         12  0.004292  1.000000   1.000000"
      ]
     },
     "execution_count": 186,
     "metadata": {},
     "output_type": "execute_result"
    }
   ],
   "source": [
    "dec_tab = dec_tab.sort_values(by=\"pred_logit_dec\", ascending=True)\n",
    "\n",
    "dec_tab[\"cum_prop\"] = dec_tab[\"nr_impressions\"].cumsum() / dec_tab[\"nr_impressions\"].sum()\n",
    "dec_tab[\"cum_gains\"] = dec_tab[\"nr_clicks\"].cumsum() / dec_tab[\"nr_clicks\"].sum()\n",
    "\n",
    "gains_tab = dec_tab[[\"pred_logit_dec\", \"nr_impressions\", \"nr_clicks\", \"ctr\", \"cum_prop\", \"cum_gains\"]]\n",
    "gains_tab"
   ]
  },
  {
   "attachments": {},
   "cell_type": "markdown",
   "id": "fc77f760",
   "metadata": {},
   "source": [
    "b. Use `seaborn`, `matplotlib`, or `pandas` to create a chart showing the cumulative gains per decile along with a (diagonal) reference line to represent the \"no model\" scenario. Put cumulative gains on the Y-axis and cumulative proportion of impressions on the X-axis (7 points)\n",
    "\n",
    "> Note: Do NOT use any specialized packages to construct the gains chart. Write the python code from scratch. Feel free use ChatGPT or CoPilot, but make sure that it does not use any specialized packages to construct the gains chart. Be prepared to discuss the code you submit for this question in class if called upon"
   ]
  },
  {
   "cell_type": "code",
   "execution_count": 187,
   "id": "67db657f",
   "metadata": {},
   "outputs": [
    {
     "data": {
      "image/png": "[encoded data removed]",
      "text/plain": [
       "<Figure size 1000x600 with 1 Axes>"
      ]
     },
     "metadata": {},
     "output_type": "display_data"
    }
   ],
   "source": [
    "plt.figure(figsize=(10, 6))\n",
    "sns.lineplot(x='cum_prop', y='cum_gains', data=gains_tab, marker='o', label='Model', color='orange')\n",
    "plt.plot([0, 1], [0, 1], linestyle='--', label='No Model')\n",
    "\n",
    "plt.xlabel('Proportion of Impressions')\n",
    "plt.ylabel('Cumulative Gains')\n",
    "plt.title('Cumulative Gains Chart')\n",
    "plt.legend()\n",
    "\n",
    "plt.show()"
   ]
  },
  {
   "cell_type": "code",
   "execution_count": 188,
   "id": "ebf38498",
   "metadata": {},
   "outputs": [],
   "source": [
    "profit_tab = pd.DataFrame({\"cum_prop\": [0] * 10, \"cum_profit\":[0]*10})"
   ]
  },
  {
   "cell_type": "markdown",
   "id": "bbeffd06",
   "metadata": {},
   "source": [
    "## Part V: Confusion matrix (10 points)"
   ]
  },
  {
   "attachments": {},
   "cell_type": "markdown",
   "id": "75aa6cc2",
   "metadata": {},
   "source": [
    "a. Create a \"confusion matrix\" based on the predictions from the logistic regression model you estimated in Part I.a (i.e., the model used to generate `pred_logit`). Again, use **only** data from the test set here (i.e., \"training == 'test'\"). Use the financial assumptions mentioned above, and repeated in section VI below, to determine an appropriate cut-off (i.e., breakeven). Calculate \"accuracy\" based on the confusion matrix you created (2 points)\n",
    "\n",
    "> Note: Do NOT use any specialized packages to construct the confusion matrix. Code the matrix from scratch.  Feel free use ChatGPT or CoPilot, but make sure that it does not use any specialized packages to construct the confusion matrix. Be prepared to discuss the code you submit for this question in class if called upon"
   ]
  },
  {
   "cell_type": "markdown",
   "id": "4250719d",
   "metadata": {},
   "source": [
    "> Note use the code format below to store the relevant values from your confusion matrix"
   ]
  },
  {
   "cell_type": "code",
   "execution_count": 189,
   "id": "17d3b6b7",
   "metadata": {},
   "outputs": [
    {
     "name": "stdout",
     "output_type": "stream",
     "text": [
      "Expected revenue per click: 1.25\n",
      "Cost per impression: 0.0100\n",
      "Breakeven threshold: 0.0080\n",
      "  label     nr\n",
      "0    TP    221\n",
      "1    FP  10661\n",
      "2    TN  17021\n",
      "3    FN     50\n"
     ]
    }
   ],
   "source": [
    "conversion_rate_after_clicking = 5/100\n",
    "cpm = 10 # Cost per impressions\n",
    "clv = 25 # Customer lifetime value\n",
    "\n",
    "expected_revenue_per_click = conversion_rate_after_clicking * clv\n",
    "print(f\"Expected revenue per click: {expected_revenue_per_click:.2f}\")\n",
    "cost_per_impression = cpm/1000\n",
    "print(f\"Cost per impression: {cost_per_impression:.4f}\")\n",
    "\n",
    "breakeven_threshold = cost_per_impression/expected_revenue_per_click\n",
    "print(f\"Breakeven threshold: {breakeven_threshold:.4f}\")\n",
    "\n",
    "# True Positives (TP): Click was \"yes\" and predicted probability > 0.008\n",
    "# False Positives (FP): Click was \"no\" but predicted probability > 0.008\n",
    "# True Negatives (TN): Click was \"no\" and predicted probability ≤ 0.008\n",
    "# False Negatives (FN): Click was \"yes\" but predicted probability ≤ 0.008\n",
    "\n",
    "actual = tz_gaming_test[\"click\"].map({\"yes\": 1, \"no\": 0})\n",
    "predicted = (tz_gaming_test[\"pred_logit\"] > breakeven_threshold).astype(int)\n",
    "\n",
    "#confusion matrix values\n",
    "TP = ((actual == 1) & (predicted == 1)).sum()\n",
    "FP = ((actual == 0) & (predicted == 1)).sum()\n",
    "TN = ((actual == 0) & (predicted == 0)).sum()\n",
    "FN = ((actual == 1) & (predicted == 0)).sum()\n",
    "\n",
    "cm_logit = pd.DataFrame(\n",
    "    {\n",
    "        \"label\": [\"TP\", \"FP\", \"TN\", \"FN\"],\n",
    "        \"nr\": [TP, FP, TN, FN]\n",
    "    }\n",
    ")\n",
    "\n",
    "print(cm_logit)"
   ]
  },
  {
   "cell_type": "code",
   "execution_count": 190,
   "id": "7abdc703",
   "metadata": {},
   "outputs": [
    {
     "name": "stdout",
     "output_type": "stream",
     "text": [
      "Accuracy: 0.6168\n"
     ]
    }
   ],
   "source": [
    "accuracy_logit = (TP + TN) / (TP + FP + TN + FN)\n",
    "print(f\"Accuracy: {accuracy_logit:.4f}\")"
   ]
  },
  {
   "cell_type": "markdown",
   "id": "1c1b0e7a",
   "metadata": {},
   "source": [
    "b. Calculate a confusion matrix based on `pred_rnd` created in Part I.e and calculate \"accuracy\" based on the confusion matrix you created (2 points)"
   ]
  },
  {
   "cell_type": "markdown",
   "id": "49f0e17a",
   "metadata": {},
   "source": [
    "> Note use the code format below to store the relevant values from your confusion matrix"
   ]
  },
  {
   "cell_type": "code",
   "execution_count": 191,
   "id": "df430157",
   "metadata": {},
   "outputs": [
    {
     "name": "stdout",
     "output_type": "stream",
     "text": [
      "  label     nr\n",
      "0    TP    271\n",
      "1    FP  27606\n",
      "2    TN     76\n",
      "3    FN      0\n"
     ]
    }
   ],
   "source": [
    "actual = tz_gaming_test[\"click\"].map({\"yes\": 1, \"no\": 0})\n",
    "predicted = (tz_gaming_test[\"pred_rnd\"] > breakeven_threshold).astype(int)\n",
    "\n",
    "#confusion matrix values\n",
    "TP = ((actual == 1) & (predicted == 1)).sum()\n",
    "FP = ((actual == 0) & (predicted == 1)).sum()\n",
    "TN = ((actual == 0) & (predicted == 0)).sum()\n",
    "FN = ((actual == 1) & (predicted == 0)).sum()\n",
    "\n",
    "cm_rnd = pd.DataFrame(\n",
    "    {\n",
    "        \"label\": [\"TP\", \"FP\", \"TN\", \"FN\"],\n",
    "        \"nr\": [TP, FP, TN, FN]\n",
    "    }\n",
    ")\n",
    "\n",
    "print(cm_rnd)"
   ]
  },
  {
   "cell_type": "code",
   "execution_count": 192,
   "id": "9df715c7",
   "metadata": {},
   "outputs": [
    {
     "name": "stdout",
     "output_type": "stream",
     "text": [
      "Accuracy Rnd: 0.0124\n"
     ]
    }
   ],
   "source": [
    "accuracy_rnd = (TP + TN) / (TP + FP + TN + FN)\n",
    "print(f\"Accuracy Rnd: {accuracy_rnd:.4f}\")"
   ]
  },
  {
   "cell_type": "markdown",
   "id": "70ad4b2f",
   "metadata": {},
   "source": [
    "c. Discuss the similarities and differences between the two confusion matrices. Which prediction (model) is best, based on the confusion matrix? Provide support for your conclusions (3 points)"
   ]
  },
  {
   "cell_type": "markdown",
   "id": "486905b0",
   "metadata": {},
   "source": [
    "Looking at the two confusion matrices, there are some clear differences between the logistic regression model (logit) and the random model (rnd). \n",
    "\n",
    "1. True Positives:\n",
    "    Logit: 221, Rnd: 271\n",
    "\n",
    "The random model actually found more actual clicks (TPs) than logistic regression.\n",
    "\n",
    "2. False Positives (i.e., incorrect \"click\" predictions):\n",
    "    Logit: 10,661, Rnd: 27,606\n",
    "\n",
    "This is a huge difference. The random model incorrectly predicted way too many impressions as clicks, which is a problem because it means the model isn't really making useful distinctions but just guessing a lot. Logit, on the other hand, is more conservative, meaning it predicts fewer clicks overall but is also less wrong.\n",
    "\n",
    "3. True Negatives (correct \"no-click\" predictions):\n",
    "    Logit: 17,021, Rnd: 76\n",
    "\n",
    "This is one of the biggest differences. The logistic regression model correctly identifies a huge number of \"no clicks\", whereas the random model almost never gets them right.\n",
    "This makes sense because the random model is just throwing around probabilities randomly, whereas logit is actually learning patterns.\n",
    "\n",
    "4. False Negatives (missed actual clicks):\n",
    "    Logit: 50, Rnd: 0\n",
    "\n",
    "The random model didn't miss any actual clicks, which is good, but it also predicted way too many false clicks (FPs), making it unreliable. The logit model missed 50 actual clicks, but in the bigger picture, it still balances between finding clicks and avoiding false alarms.\n",
    "\n",
    "Overall Model Performance\n",
    "    \n",
    "    Accuracy- Logit: 61.68%, Rnd: 1.24%\n",
    "\n",
    "This is a massive difference. The logistic regression model is way more reliable at making good classifications. Even though the random model got more true positives, it also predicted an insane number of false positives. Logistic regression is clearly the better choice. It has a much higher accuracy. Even though it misses some actual clicks (FN = 50), it compensates by reducing the false positives significantly compared to the random model. If TZ Gaming is looking for a way to target users efficiently, logistic regression is the better option. The random model is not even close as it predicts way too many false clicks."
   ]
  },
  {
   "cell_type": "markdown",
   "id": "706bae83",
   "metadata": {},
   "source": [
    "d. Recalculate the confusion matrices from V.a and V.b using 0.5 as the cutoff. Based on these new matrices discuss  the similarities and differences. Which model is best based on these new confusion matrices? Provide support for your conclusions (3 points)"
   ]
  },
  {
   "cell_type": "markdown",
   "id": "960c4954",
   "metadata": {},
   "source": [
    "> Note use the code format below to store the relevant values from your confusion matrix"
   ]
  },
  {
   "cell_type": "code",
   "execution_count": 193,
   "id": "b1d54ad5",
   "metadata": {},
   "outputs": [
    {
     "name": "stdout",
     "output_type": "stream",
     "text": [
      "  label     nr\n",
      "0    TP      0\n",
      "1    FP      0\n",
      "2    TN  27682\n",
      "3    FN    271\n"
     ]
    }
   ],
   "source": [
    "#pred_logit\n",
    "\n",
    "cutoff_breakeven = 0.5\n",
    "\n",
    "# True Positives (TP): Click was \"yes\" and predicted probability > 0.5\n",
    "# False Positives (FP): Click was \"no\" but predicted probability > 0.5\n",
    "# True Negatives (TN): Click was \"no\" and predicted probability ≤ 0.5\n",
    "# False Negatives (FN): Click was \"yes\" but predicted probability ≤ 0.5\n",
    "\n",
    "actual = tz_gaming_test[\"click\"].map({\"yes\": 1, \"no\": 0})\n",
    "predicted = (tz_gaming_test[\"pred_logit\"] > cutoff_breakeven).astype(int)\n",
    "\n",
    "#confusion matrix values\n",
    "TP = ((actual == 1) & (predicted == 1)).sum()\n",
    "FP = ((actual == 0) & (predicted == 1)).sum()\n",
    "TN = ((actual == 0) & (predicted == 0)).sum()\n",
    "FN = ((actual == 1) & (predicted == 0)).sum()\n",
    "\n",
    "cm_logit_recalc = pd.DataFrame(\n",
    "    {\n",
    "        \"label\": [\"TP\", \"FP\", \"TN\", \"FN\"],\n",
    "        \"nr\": [TP, FP, TN, FN]\n",
    "    }\n",
    ")\n",
    "\n",
    "print(cm_logit_recalc)"
   ]
  },
  {
   "cell_type": "code",
   "execution_count": 194,
   "id": "cd067314",
   "metadata": {},
   "outputs": [
    {
     "name": "stdout",
     "output_type": "stream",
     "text": [
      "accuracy_logit_recalc = 0.9903\n"
     ]
    }
   ],
   "source": [
    "accuracy_logit_recalc = (TP + TN) / (TP + FP + TN + FN)\n",
    "print(f\"{accuracy_logit_recalc = :.4f}\")"
   ]
  },
  {
   "cell_type": "markdown",
   "id": "78ccc89a",
   "metadata": {},
   "source": [
    "> Note use the code format below to store the relevant values from your confusion matrix"
   ]
  },
  {
   "cell_type": "code",
   "execution_count": 195,
   "id": "957d2918",
   "metadata": {},
   "outputs": [
    {
     "name": "stdout",
     "output_type": "stream",
     "text": [
      "  label     nr\n",
      "0    TP      0\n",
      "1    FP      0\n",
      "2    TN  27682\n",
      "3    FN    271\n"
     ]
    }
   ],
   "source": [
    "#pred_rnd\n",
    "\n",
    "cutoff_breakeven = 0.5\n",
    "\n",
    "# True Positives (TP): Click was \"yes\" and predicted probability > 0.5\n",
    "# False Positives (FP): Click was \"no\" but predicted probability > 0.5\n",
    "# True Negatives (TN): Click was \"no\" and predicted probability ≤ 0.5\n",
    "# False Negatives (FN): Click was \"yes\" but predicted probability ≤ 0.5\n",
    "\n",
    "actual = tz_gaming_test[\"click\"].map({\"yes\": 1, \"no\": 0})\n",
    "predicted = (tz_gaming_test[\"pred_rnd\"] > cutoff_breakeven).astype(int)\n",
    "\n",
    "#confusion matrix values\n",
    "TP = ((actual == 1) & (predicted == 1)).sum()\n",
    "FP = ((actual == 0) & (predicted == 1)).sum()\n",
    "TN = ((actual == 0) & (predicted == 0)).sum()\n",
    "FN = ((actual == 1) & (predicted == 0)).sum()\n",
    "\n",
    "cm_rnd_recalc = pd.DataFrame(\n",
    "    {\n",
    "        \"label\": [\"TP\", \"FP\", \"TN\", \"FN\"],\n",
    "        \"nr\": [TP, FP, TN, FN]\n",
    "    }\n",
    ")\n",
    "\n",
    "print(cm_rnd_recalc)"
   ]
  },
  {
   "cell_type": "code",
   "execution_count": 196,
   "id": "90b40cb6",
   "metadata": {},
   "outputs": [
    {
     "name": "stdout",
     "output_type": "stream",
     "text": [
      "accuracy_rnd_recalc = 0.9903\n"
     ]
    }
   ],
   "source": [
    "accuracy_rnd_recalc = (TP + TN) / (TP + FP + TN + FN)\n",
    "print(f\"{accuracy_rnd_recalc = :.4f}\")"
   ]
  },
  {
   "cell_type": "markdown",
   "id": "bd84db53",
   "metadata": {},
   "source": [
    "When we switch to a 0.5 threshold, both models completely fail at predicting clicks. The confusion matrices show that neither the logistic regression model (logit) nor the random model (rnd) classifies any impressions as a click (TP = 0). Instead, all actual clicks are misclassified as false negatives (FN = 271), meaning we miss every potential customer who would have clicked. At the same time, false positives (FP) drop to zero, and almost every impression is correctly labeled as a no-click (TN = 27,682), which inflates the accuracy to 99.03 %. However, this high accuracy is misleading because the model is simply playing it safe by predicting \"no-click\" for everything. This makes it useless for ad targeting, as the entire goal of the model is to identify users who are likely to click and not just maximize accuracy by avoiding false positives.\n",
    "\n",
    "Comparing this to the breakeven threshold (0.008) from earlier, the logistic regression model was much better at balancing true positives and false positives. The 0.5 threshold is just too high for a scenario where click probabilities are naturally low. Logistic regression with the breakeven threshold remains the best choice, as it provides a meaningful way to separate potential clickers from non-clickers while keeping false positives under control.\n",
    "\n",
    "But, as we know the models predict the true negatives almost perfectly, hence if it shows true negative, we can do the opposite of what the model says. Since both models almost perfectly predict true negatives (TN), we could flip the approach and target the users the model thinks won’t click instead of the ones it predicts will click. If the model is overly conservative with a 0.5 threshold, predicting \"no-click\" for nearly everyone, that might actually mean there are valuable prospects hidden within the false negatives."
   ]
  },
  {
   "cell_type": "markdown",
   "id": "3a46c89b",
   "metadata": {},
   "source": [
    "## Part VI: Model comparison (12 points)\n"
   ]
  },
  {
   "cell_type": "markdown",
   "id": "23c7b960",
   "metadata": {},
   "source": [
    "Use the following cost information to assess the profitability each of these models for targeting purposes during the upcoming 20-million impression advertising campaign:\n",
    "\n",
    "* Cost per 1,000 video impressions (CPM) is $10\n",
    "* Conversion to sign-up as a TZ game player after clicking on an ad is 5%\n",
    "* The expected CLV of customers that sign-up with TZ after clicking on an ad is approximately $25\n",
    "* The total cost of the data from Vneta is $50K\n",
    "* The total cost charged for the data science consulting services by Vneta is $150K\n",
    "\n",
    "Use `pred_logit`, `pred_rnd`, and the predictions from Vneta based on their proprietary model `pred_vneta` to compare model performance.\n",
    "\n",
    "> Note: The currently available data (+ the `pred_vneta` prediction) are free of charge as part of the partnership between Vneta and TZ-gaming"
   ]
  },
  {
   "cell_type": "markdown",
   "id": "84482c7d",
   "metadata": {},
   "source": [
    "a. Create a new variable `target_logit` that is `True` if the predicted click-through (`pred_logit`) probability is greater than the break-even response rate and `FALSE` otherwise (1 point)"
   ]
  },
  {
   "cell_type": "code",
   "execution_count": 197,
   "id": "e36f22b9",
   "metadata": {},
   "outputs": [
    {
     "name": "stdout",
     "output_type": "stream",
     "text": [
      "     pred_logit  target_logit\n",
      "0  3.382977e-13         False\n",
      "1  1.156355e-02          True\n",
      "2  2.655311e-03         False\n",
      "3  1.349420e-02          True\n",
      "4  1.868222e-03         False\n"
     ]
    }
   ],
   "source": [
    "# as we know that break even threshhold is 0.008\n",
    "\n",
    "tz_gaming[\"target_logit\"] = tz_gaming[\"pred_logit\"] > breakeven_threshold\n",
    "print(tz_gaming[[\"pred_logit\", \"target_logit\"]].head())"
   ]
  },
  {
   "cell_type": "markdown",
   "id": "01009762",
   "metadata": {},
   "source": [
    "b. Create a new variable `target_rnd` that is `True` if the predicted click-through (`pred_rnd`) probability is greater than the break-even response rate and `FALSE` otherwise (1 point)"
   ]
  },
  {
   "cell_type": "code",
   "execution_count": 198,
   "id": "a7db4220",
   "metadata": {},
   "outputs": [
    {
     "name": "stdout",
     "output_type": "stream",
     "text": [
      "   pred_rnd  target_rnd\n",
      "0  0.009222        True\n",
      "1  0.008751        True\n",
      "2  0.008505        True\n",
      "3  0.009600        True\n",
      "4  0.008704        True\n"
     ]
    }
   ],
   "source": [
    "tz_gaming[\"target_rnd\"] = tz_gaming[\"pred_rnd\"] > breakeven_threshold\n",
    "print(tz_gaming[[\"pred_rnd\", \"target_rnd\"]].head())"
   ]
  },
  {
   "cell_type": "markdown",
   "id": "5d37d412",
   "metadata": {},
   "source": [
    "c. Create a new variable `target_vneta` that is `True` if the predicted click-through (`pred_vneta`) probability is greater than the break-even response rate and `False` otherwise (1 point)"
   ]
  },
  {
   "cell_type": "code",
   "execution_count": 199,
   "id": "17488a5b",
   "metadata": {},
   "outputs": [
    {
     "name": "stdout",
     "output_type": "stream",
     "text": [
      "   pred_vneta  target_vneta\n",
      "0    0.003961         False\n",
      "1    0.003961         False\n",
      "2    0.003961         False\n",
      "3    0.018965          True\n",
      "4    0.003961         False\n"
     ]
    }
   ],
   "source": [
    "# insert your answer here\n",
    "tz_gaming[\"target_vneta\"] = tz_gaming[\"pred_vneta\"] > breakeven_threshold\n",
    "print(tz_gaming[[\"pred_vneta\", \"target_vneta\"]].head())"
   ]
  },
  {
   "cell_type": "markdown",
   "id": "7a114bda",
   "metadata": {},
   "source": [
    "d. Based on the performance in the test set (i.e, `training == 'test'`), calculate the **projected** expected profit (in dollars) and the expected return on marketing expenditures (ROME) for the upcoming campaign if TZ (1) \"spams\" everyone, (2) continues to target using their current approach (i.e., use `pred_rnd`), (3) uses the data from Vneta to build the logistic regression from section I (i.e., use `pred_logit`) for targeting, or (4) used Vneta's data science consulting services (i.e., use `pred_vneta`) to **select the best prospects out of 20M impressions**. (3 points)\n",
    "\n",
    "> Note: Calculate the total **projected profits from selecting the best prospects out of 20M impressions** under the assumption that options (3) and (4) are free of charge. Then compare the profit numbers to determine if these options would be worth the expense going forward."
   ]
  },
  {
   "cell_type": "markdown",
   "id": "db269cf2",
   "metadata": {},
   "source": [
    "> Note: Calculate total profits under the assumption that options (3) and (4) are free of charge. Then compare the profit numbers to determine if these options would be worth the expense going forward."
   ]
  },
  {
   "cell_type": "code",
   "execution_count": 200,
   "id": "b93d9d70",
   "metadata": {},
   "outputs": [],
   "source": [
    "total_impressions = 20000000 \n",
    "cpm = 10  # Cost per 1,000 impressions\n",
    "cost_per_click = cpm / 1000  # $0.01 per impression\n",
    "conversion_rate = 0.05 \n",
    "clv = 25  # customer lifetime Value\n"
   ]
  },
  {
   "cell_type": "code",
   "execution_count": 201,
   "id": "cadc971e",
   "metadata": {},
   "outputs": [
    {
     "data": {
      "text/plain": [
       "0.008"
      ]
     },
     "execution_count": 201,
     "metadata": {},
     "output_type": "execute_result"
    }
   ],
   "source": [
    "breakeven_threshold"
   ]
  },
  {
   "cell_type": "markdown",
   "id": "4d6ad6b0",
   "metadata": {},
   "source": []
  },
  {
   "cell_type": "code",
   "execution_count": 202,
   "id": "2acabf16",
   "metadata": {},
   "outputs": [
    {
     "name": "stdout",
     "output_type": "stream",
     "text": [
      "Expected Profit when spamming: $59.22\n",
      "Return on Marketing Expenditure (ROME) when spamming: 21.19%\n"
     ]
    }
   ],
   "source": [
    "tz_gaming[\"pred_spam\"] = 1\n",
    "tz_gaming[\"target_spam\"] = True\n",
    "\n",
    "n = len(tz_gaming_test) \n",
    "cost = n / 1000 * cpm\n",
    "yes_click = tz_gaming_test[tz_gaming_test['click'] == 'yes'].shape[0]\n",
    "response_rate = yes_click / n\n",
    "respondes = n * response_rate\n",
    "signups = respondes * conversion_rate\n",
    "revenue = signups * clv\n",
    "\n",
    "spam_profit = revenue - cost\n",
    "spam_ROME = spam_profit / cost\n",
    "\n",
    "print(f\"Expected Profit when spamming: ${spam_profit:.2f}\")\n",
    "print(f\"Return on Marketing Expenditure (ROME) when spamming: {spam_ROME:.2%}\")"
   ]
  },
  {
   "cell_type": "code",
   "execution_count": 203,
   "id": "77168155",
   "metadata": {},
   "outputs": [
    {
     "name": "stdout",
     "output_type": "stream",
     "text": [
      "Logit Expected Profit: $167.43\n",
      "Logit Return on Marketing Expenditure (ROME): 153.86%\n"
     ]
    },
    {
     "name": "stderr",
     "output_type": "stream",
     "text": [
      "/tmp/ipykernel_5259/3722800258.py:1: SettingWithCopyWarning: \n",
      "A value is trying to be set on a copy of a slice from a DataFrame.\n",
      "Try using .loc[row_indexer,col_indexer] = value instead\n",
      "\n",
      "See the caveats in the documentation: https://pandas.pydata.org/pandas-docs/stable/user_guide/indexing.html#returning-a-view-versus-a-copy\n",
      "  tz_gaming_test[\"target_logit\"] = tz_gaming_test[\"pred_logit\"] > breakeven_threshold\n"
     ]
    }
   ],
   "source": [
    "tz_gaming_test[\"target_logit\"] = tz_gaming_test[\"pred_logit\"] > breakeven_threshold\n",
    "tz_logit_targeted = tz_gaming_test[tz_gaming_test[\"target_logit\"]]\n",
    "\n",
    "n_logit = len(tz_logit_targeted)\n",
    "cost_logit = n_logit / 1000 * cpm\n",
    "clicks_logit = tz_logit_targeted[tz_logit_targeted['click'] == 'yes'].shape[0]\n",
    "response_rate_logit = clicks_logit / n_logit\n",
    "responses_logit = n_logit * response_rate_logit\n",
    "signups_logit = responses_logit * conversion_rate\n",
    "revenue_logit = signups_logit * clv\n",
    "\n",
    "logit_profit = revenue_logit - cost_logit\n",
    "logit_ROME = logit_profit / cost_logit\n",
    "\n",
    "print(f\"Logit Expected Profit: ${logit_profit:.2f}\")\n",
    "print(f\"Logit Return on Marketing Expenditure (ROME): {logit_ROME:.2%}\")"
   ]
  },
  {
   "cell_type": "code",
   "execution_count": 204,
   "id": "e78f39fe",
   "metadata": {},
   "outputs": [
    {
     "name": "stdout",
     "output_type": "stream",
     "text": [
      "Rnd Expected Profit: $59.98\n",
      "Rnd Return on Marketing Expenditure (ROME): 21.52%\n"
     ]
    },
    {
     "name": "stderr",
     "output_type": "stream",
     "text": [
      "/tmp/ipykernel_5259/2757257343.py:1: SettingWithCopyWarning: \n",
      "A value is trying to be set on a copy of a slice from a DataFrame.\n",
      "Try using .loc[row_indexer,col_indexer] = value instead\n",
      "\n",
      "See the caveats in the documentation: https://pandas.pydata.org/pandas-docs/stable/user_guide/indexing.html#returning-a-view-versus-a-copy\n",
      "  tz_gaming_test[\"target_rnd\"] = tz_gaming_test[\"pred_rnd\"] > breakeven_threshold\n"
     ]
    }
   ],
   "source": [
    "tz_gaming_test[\"target_rnd\"] = tz_gaming_test[\"pred_rnd\"] > breakeven_threshold\n",
    "tz_rnd_targeted = tz_gaming_test[tz_gaming_test[\"target_rnd\"]]\n",
    "\n",
    "n_rnd = len(tz_rnd_targeted)\n",
    "cost_rnd = n_rnd / 1000 * cpm\n",
    "true_clicks_rnd = tz_rnd_targeted[tz_rnd_targeted['click'] == 'yes'].shape[0]\n",
    "response_rate_rnd = true_clicks_rnd / n_rnd\n",
    "responses_rnd = n_rnd * response_rate_rnd\n",
    "signups_rnd = responses_rnd * conversion_rate\n",
    "revenue_rnd = signups_rnd * clv\n",
    "\n",
    "rnd_profit = revenue_rnd - cost_rnd\n",
    "rnd_ROME = rnd_profit / cost_rnd\n",
    "\n",
    "print(f\"Rnd Expected Profit: ${rnd_profit:.2f}\")\n",
    "print(f\"Rnd Return on Marketing Expenditure (ROME): {rnd_ROME:.2%}\")"
   ]
  },
  {
   "cell_type": "code",
   "execution_count": 205,
   "id": "879973c9",
   "metadata": {},
   "outputs": [
    {
     "name": "stdout",
     "output_type": "stream",
     "text": [
      "Vneta Expected Profit: $151.29\n",
      "Vneta Return on Marketing Expenditure (ROME): 310.59%\n"
     ]
    },
    {
     "name": "stderr",
     "output_type": "stream",
     "text": [
      "/tmp/ipykernel_5259/1363437856.py:1: SettingWithCopyWarning: \n",
      "A value is trying to be set on a copy of a slice from a DataFrame.\n",
      "Try using .loc[row_indexer,col_indexer] = value instead\n",
      "\n",
      "See the caveats in the documentation: https://pandas.pydata.org/pandas-docs/stable/user_guide/indexing.html#returning-a-view-versus-a-copy\n",
      "  tz_gaming_test[\"target_vneta\"] = tz_gaming_test[\"pred_vneta\"] > breakeven_threshold\n"
     ]
    }
   ],
   "source": [
    "tz_gaming_test[\"target_vneta\"] = tz_gaming_test[\"pred_vneta\"] > breakeven_threshold\n",
    "tz_vneta_targeted = tz_gaming_test[tz_gaming_test[\"target_vneta\"]]\n",
    "\n",
    "n_vneta = len(tz_vneta_targeted)\n",
    "cost_vneta = n_vneta / 1000 * cpm\n",
    "true_clicks_vneta = tz_vneta_targeted[tz_vneta_targeted['click'] == 'yes'].shape[0]\n",
    "response_rate_vneta = true_clicks_vneta / n_vneta\n",
    "respondes_vneta = n_vneta * response_rate_vneta\n",
    "signups_vneta = respondes_vneta * 0.05\n",
    "revenue_vneta = signups_vneta * 25\n",
    "\n",
    "vneta_profit = revenue_vneta - cost_vneta\n",
    "vneta_ROME = vneta_profit / cost_vneta\n",
    "\n",
    "print(f\"Vneta Expected Profit: ${vneta_profit:.2f}\")\n",
    "print(f\"Vneta Return on Marketing Expenditure (ROME): {vneta_ROME:.2%}\")"
   ]
  },
  {
   "cell_type": "code",
   "execution_count": 206,
   "id": "c91ed28c",
   "metadata": {},
   "outputs": [
    {
     "data": {
      "text/html": [
       "<div>\n",
       "<style scoped>\n",
       "    .dataframe tbody tr th:only-of-type {\n",
       "        vertical-align: middle;\n",
       "    }\n",
       "\n",
       "    .dataframe tbody tr th {\n",
       "        vertical-align: top;\n",
       "    }\n",
       "\n",
       "    .dataframe thead th {\n",
       "        text-align: right;\n",
       "    }\n",
       "</style>\n",
       "<table border=\"1\" class=\"dataframe\">\n",
       "  <thead>\n",
       "    <tr style=\"text-align: right;\">\n",
       "      <th></th>\n",
       "      <th>model</th>\n",
       "      <th>profit</th>\n",
       "      <th>ROME</th>\n",
       "    </tr>\n",
       "  </thead>\n",
       "  <tbody>\n",
       "    <tr>\n",
       "      <th>0</th>\n",
       "      <td>logit</td>\n",
       "      <td>167.43</td>\n",
       "      <td>1.538596</td>\n",
       "    </tr>\n",
       "    <tr>\n",
       "      <th>1</th>\n",
       "      <td>rnd</td>\n",
       "      <td>59.98</td>\n",
       "      <td>0.215159</td>\n",
       "    </tr>\n",
       "    <tr>\n",
       "      <th>2</th>\n",
       "      <td>vneta</td>\n",
       "      <td>151.29</td>\n",
       "      <td>3.105933</td>\n",
       "    </tr>\n",
       "    <tr>\n",
       "      <th>3</th>\n",
       "      <td>spam</td>\n",
       "      <td>59.22</td>\n",
       "      <td>0.211856</td>\n",
       "    </tr>\n",
       "  </tbody>\n",
       "</table>\n",
       "</div>"
      ],
      "text/plain": [
       "   model  profit      ROME\n",
       "0  logit  167.43  1.538596\n",
       "1    rnd   59.98  0.215159\n",
       "2  vneta  151.29  3.105933\n",
       "3   spam   59.22  0.211856"
      ]
     },
     "execution_count": 206,
     "metadata": {},
     "output_type": "execute_result"
    }
   ],
   "source": [
    "tz_gaming[\"pred_spam\"] = 1\n",
    "tz_gaming[\"target_spam\"] = True\n",
    "\n",
    "mod_perf = pd.DataFrame(\n",
    "    {\n",
    "        \"model\": [\n",
    "            \"logit\",\n",
    "            \"rnd\",\n",
    "            \"vneta\",\n",
    "            \"spam\",\n",
    "        ],\n",
    "        \"profit\": [logit_profit, rnd_profit, vneta_profit, spam_profit],\n",
    "        \"ROME\": [logit_ROME, rnd_ROME, vneta_ROME, spam_ROME]\n",
    "    }\n",
    ")\n",
    "\n",
    "mod_perf"
   ]
  },
  {
   "cell_type": "markdown",
   "id": "60d40387",
   "metadata": {},
   "source": [
    "e. Based on the projected profit numbers from VI.d, discuss which of these 4 approaches you would recommend and why (2 points)"
   ]
  },
  {
   "cell_type": "markdown",
   "id": "85be432d",
   "metadata": {},
   "source": [
    "1. Spam (Targeting Everyone in the Test Set):\n",
    "\n",
    "Profit: $59.22 ROME: 21.19% Analysis: This approach is easy to implement but lacks precision, leading to a lower return on investment. While it ensures broad exposure, the inefficiency in targeting results in suboptimal profitability.\n",
    "\n",
    "2. Rnd (Current Targeting Approach):\n",
    "\n",
    "Profit: $59.98 ROME: 21.52% Analysis: This method performs slightly better than spamming everyone, indicating some level of effectiveness in the existing targeting strategy. However, the small improvement suggests that the current approach is not highly optimized and could be refined further.\n",
    "\n",
    "3. Logit (Purchasing Vneta Data and Using Logistic Regression for Targeting):\n",
    "\n",
    "Profit: $167.43 ROME: 153.86% Analysis: This model significantly outperforms the first two approaches in both profitability and return on investment. The logistic regression model is more effective in identifying users likely to engage with the ads, making it a much more efficient targeting strategy.\n",
    "\n",
    "4. Vneta (Using Vneta's Data Science Consulting Services):\n",
    "\n",
    "Profit: $151.29 ROME: 310.59% Analysis: While this approach generates slightly less profit than the Logit model, it achieves the highest return on marketing expenditure (ROME), making it the most efficient in terms of investment-to-profit ratio.\n",
    "\n",
    "Recommendation:\n",
    "\n",
    "Both the Logit model and Vneta’s consulting services are strong choices, depending on TZ Gaming’s priorities. If the goal is to maximize revenue, the Logit model is preferable, as it delivers the highest profit. However, if cost-efficiency and return on investment are more important, the Vneta model is the better option due to its superior ROME. If TZ Gaming have a larger budget and aim for maximum revenue, the Logit model is the best fit. On the other hand, if they are working with a tighter budget and need to optimize efficiency, the Vneta model would be a smarter choice."
   ]
  },
  {
   "cell_type": "markdown",
   "id": "68cd674e",
   "metadata": {},
   "source": [
    "f. Calculate the profit and ROME implications for each of the 4 options mentioned in VI.d if TZ purchases exactly 20-million impressions for the upcoming ad campaign out of the +500M prospects that Vneta has access to (2 points)\n",
    "\n",
    "> Note: Calculate **projected profits from purchasing exactly 20M impressions** under the assumption that options (3) and (4) are free of charge. Then compare the profit numbers to determine if these options would be worth the expense going forward.\n",
    "\n",
    "> Note: For efficiency, consider adapting the `perf_calc` function you created for the Tuango case to do the relevant performance calculations for the different models."
   ]
  },
  {
   "cell_type": "code",
   "execution_count": 207,
   "id": "af479384",
   "metadata": {},
   "outputs": [
    {
     "name": "stdout",
     "output_type": "stream",
     "text": [
      "42371.122956391075 0.2118556147819554\n"
     ]
    }
   ],
   "source": [
    "total_spam = total_impressions \n",
    "\n",
    "cost_spam_20M = total_spam * (cpm / 1000)\n",
    "click_true_spam_20M = tz_gaming_test[tz_gaming_test[\"click\"] == \"yes\"]\n",
    "\n",
    "response_rate_spam_20M = click_true_spam_20M[\"click\"].count() / len(tz_gaming_test)\n",
    "responses_spam_20M = total_spam * response_rate_spam_20M\n",
    "\n",
    "registrations_spam_20M = responses_spam_20M * 0.05\n",
    "revenue_spam_20M = registrations_spam_20M * 25\n",
    "\n",
    "profit_spam_20M = revenue_spam_20M - cost_spam_20M\n",
    "ROME_spam_20M = profit_spam_20M / cost_spam_20M\n",
    "\n",
    "print(profit_spam_20M, ROME_spam_20M)"
   ]
  },
  {
   "cell_type": "code",
   "execution_count": 208,
   "id": "156fb8f2",
   "metadata": {},
   "outputs": [
    {
     "name": "stdout",
     "output_type": "stream",
     "text": [
      "119793.93982756774 1.5385958463517742\n"
     ]
    }
   ],
   "source": [
    "total_logit_impressions = total_impressions * (tz_gaming_test[\"target_logit\"].sum() / len(tz_gaming_test))\n",
    "\n",
    "cost_logit_20M = total_logit_impressions * (cpm / 1000)\n",
    "true_clicks_logit_20M = tz_gaming_test[(tz_gaming_test[\"click\"] == \"yes\") & (tz_gaming_test[\"target_logit\"] == True)]\n",
    "\n",
    "response_rate_logit_20M = true_clicks_logit_20M[\"click\"].count() / tz_gaming_test[\"target_logit\"].sum()\n",
    "responses_logit_20M = total_logit_impressions * response_rate_logit_20M\n",
    "\n",
    "registrations_logit_20M = responses_logit_20M * conversion_rate\n",
    "revenue_logit_20M = registrations_logit_20M * clv\n",
    "\n",
    "profit_logit_20M = revenue_logit_20M - cost_logit_20M\n",
    "ROME_logit_20M = profit_logit_20M / cost_logit_20M\n",
    "\n",
    "print(profit_logit_20M, ROME_logit_20M)"
   ]
  },
  {
   "cell_type": "code",
   "execution_count": 209,
   "id": "1d501627",
   "metadata": {},
   "outputs": [
    {
     "name": "stdout",
     "output_type": "stream",
     "text": [
      "42914.89285586518 0.21515945044301743\n"
     ]
    }
   ],
   "source": [
    "total_rnd = total_impressions * (tz_gaming_test[\"target_rnd\"].sum() / len(tz_gaming_test))\n",
    "\n",
    "cost_rnd_20M = total_rnd * (cpm / 1000)\n",
    "click_true_rnd_20M = tz_gaming_test[(tz_gaming_test[\"click\"] == \"yes\") & (tz_gaming_test[\"target_rnd\"] == True)]\n",
    "\n",
    "response_rate_rnd_20M = click_true_rnd_20M[\"click\"].count() / tz_gaming_test[\"target_rnd\"].sum()\n",
    "responses_rnd_20M = total_rnd * response_rate_rnd_20M\n",
    "\n",
    "registrations_rnd_20M = responses_rnd_20M * 0.05\n",
    "revenue_rnd_20M = registrations_rnd_20M * 25\n",
    "\n",
    "profit_rnd_20M = revenue_rnd_20M - cost_rnd_20M\n",
    "ROME_rnd_20M = profit_rnd_20M / cost_rnd_20M\n",
    "\n",
    "print(profit_rnd_20M, ROME_rnd_20M)"
   ]
  },
  {
   "cell_type": "code",
   "execution_count": 210,
   "id": "92da00e5",
   "metadata": {},
   "outputs": [
    {
     "name": "stdout",
     "output_type": "stream",
     "text": [
      "108245.98433084103 3.1059330732909047\n"
     ]
    }
   ],
   "source": [
    "total_vneta = total_impressions * (tz_gaming_test[\"target_vneta\"].sum() / len(tz_gaming_test))\n",
    "\n",
    "cost_vneta_20M = total_vneta * (cpm / 1000)\n",
    "click_true_vneta_20M = tz_gaming_test[(tz_gaming_test[\"click\"] == \"yes\") & (tz_gaming_test[\"target_vneta\"] == True)]\n",
    "\n",
    "response_rate_vneta_20M = click_true_vneta_20M[\"click\"].count() / tz_gaming_test[\"target_vneta\"].sum()\n",
    "responses_vneta_20M = total_vneta * response_rate_vneta_20M\n",
    "\n",
    "registrations_vneta_20M = responses_vneta_20M * 0.05\n",
    "revenue_vneta_20M = registrations_vneta_20M * 25\n",
    "\n",
    "profit_vneta_20M = revenue_vneta_20M - cost_vneta_20M\n",
    "ROME_vneta_20M = profit_vneta_20M / cost_vneta_20M\n",
    "\n",
    "print(profit_vneta_20M, ROME_vneta_20M)"
   ]
  },
  {
   "cell_type": "code",
   "execution_count": 211,
   "id": "ec398de0",
   "metadata": {},
   "outputs": [
    {
     "data": {
      "text/html": [
       "<div>\n",
       "<style scoped>\n",
       "    .dataframe tbody tr th:only-of-type {\n",
       "        vertical-align: middle;\n",
       "    }\n",
       "\n",
       "    .dataframe tbody tr th {\n",
       "        vertical-align: top;\n",
       "    }\n",
       "\n",
       "    .dataframe thead th {\n",
       "        text-align: right;\n",
       "    }\n",
       "</style>\n",
       "<table border=\"1\" class=\"dataframe\">\n",
       "  <thead>\n",
       "    <tr style=\"text-align: right;\">\n",
       "      <th></th>\n",
       "      <th>model</th>\n",
       "      <th>profit</th>\n",
       "      <th>ROME</th>\n",
       "    </tr>\n",
       "  </thead>\n",
       "  <tbody>\n",
       "    <tr>\n",
       "      <th>0</th>\n",
       "      <td>logit</td>\n",
       "      <td>119793.939828</td>\n",
       "      <td>1.538596</td>\n",
       "    </tr>\n",
       "    <tr>\n",
       "      <th>1</th>\n",
       "      <td>rnd</td>\n",
       "      <td>42914.892856</td>\n",
       "      <td>0.215159</td>\n",
       "    </tr>\n",
       "    <tr>\n",
       "      <th>2</th>\n",
       "      <td>vneta</td>\n",
       "      <td>108245.984331</td>\n",
       "      <td>3.105933</td>\n",
       "    </tr>\n",
       "    <tr>\n",
       "      <th>3</th>\n",
       "      <td>spam</td>\n",
       "      <td>42371.122956</td>\n",
       "      <td>0.211856</td>\n",
       "    </tr>\n",
       "  </tbody>\n",
       "</table>\n",
       "</div>"
      ],
      "text/plain": [
       "   model         profit      ROME\n",
       "0  logit  119793.939828  1.538596\n",
       "1    rnd   42914.892856  0.215159\n",
       "2  vneta  108245.984331  3.105933\n",
       "3   spam   42371.122956  0.211856"
      ]
     },
     "execution_count": 211,
     "metadata": {},
     "output_type": "execute_result"
    }
   ],
   "source": [
    "mod_perf_20M = pd.DataFrame(\n",
    "    {\n",
    "        \"model\": [\n",
    "            \"logit\",\n",
    "            \"rnd\",\n",
    "            \"vneta\",\n",
    "            \"spam\",\n",
    "        ],\n",
    "        \"profit\": [profit_logit_20M, profit_rnd_20M, profit_vneta_20M, profit_spam_20M],\n",
    "        \"ROME\": [ROME_logit_20M, ROME_rnd_20M, ROME_vneta_20M, ROME_spam_20M]\n",
    "    }\n",
    ")\n",
    "\n",
    "mod_perf_20M"
   ]
  },
  {
   "cell_type": "markdown",
   "id": "e1acd3c5",
   "metadata": {},
   "source": [
    "g. Based on the results from VI.f, discuss which of the 4 approaches you would recommend to put into production and why. Is your recommendation different from VI.e? Why (not) (2 points)"
   ]
  },
  {
   "cell_type": "markdown",
   "id": "4ae36a4f",
   "metadata": {},
   "source": [
    "1. Logit Model:\n",
    "Profit: $119,793.94, ROME: 153.86%\n",
    "\n",
    "The Logit model delivers the highest profit among all approaches while maintaining a strong return on marketing expenditure. This highlights its ability to generate significant returns, making it a highly effective and profitable choice.\n",
    "\n",
    "2. Rnd Model:\n",
    "Profit: $42,914.89, ROME: 21.52%\n",
    "\n",
    "Although it performs better than the spam strategy, the Rnd model lags significantly behind the Logit and Vneta models in both profitability and return on investment, indicating room for improvement in its targeting efficiency.\n",
    "\n",
    "3. Vneta Model:\n",
    "Profit: $108,245.98, ROME: 310.59%\n",
    "\n",
    "The Vneta model stands out for its exceptional return on marketing expenditure, making it the most cost-efficient approach. While its total profit is slightly lower than that of the Logit model, its ability to maximize returns relative to investment is impressive.\n",
    "\n",
    "4. Spam Model:\n",
    "Profit: $42,371.12, ROME: 21.19%\n",
    "\n",
    "The spam method results in the lowest profit and ROME, reinforcing its inefficiency in utilizing ad impressions effectively. This approach lacks strategic targeting, leading to wasted ad spend.\n",
    "\n",
    "Recommendation:\n",
    "For the upcoming ad campaign, the Logit model is the most favorable option due to its highest profit, which is critical for maximizing revenue. However, if efficiency and return on investment are the primary concerns, the Vneta model is a compelling alternative, as it achieves the best ROME.\n",
    "\n",
    "Comparison with Part VI e:\n",
    "This recommendation is consistent with the earlier findings in VI.e, where both the Logit and Vneta models were highlighted as the top choices. The results from the 20-million impression campaign further validate that these two models are the most financially viable and efficient."
   ]
  },
  {
   "cell_type": "markdown",
   "id": "2f97b194",
   "metadata": {},
   "source": [
    "## Part VII: Generative AI (5 points)\n",
    "\n",
    "Please describe how you used Generative AI-tools like ChatGPT to support your work on this assignment and enhance your learning. Create a pdf where you organize your interactions with AI and comment on what things did and did not go well. Bring any questions you may have about the assignment and the support you received from GenAI to class so we can discuss.\n",
    "\n",
    "Make sure to include:\n",
    "\n",
    "- Specific examples of prompts you used\n",
    "- How the AI responses helped or hindered your understanding\n",
    "- Any limitations or challenges you encountered\n",
    "- Key insights gained from using GenAI tools\n",
    "- Questions that arose during your interactions with AI\n",
    "- How GenAI complemented your learning process\n",
    "\n",
    "Note: No matter how you used Generative AI-tools, you will be expected to understand and talk meaningfully about the work you submitted for this assignment. You may be called on in class to walk us through your thought process and calculations."
   ]
  },
  {
   "cell_type": "markdown",
   "id": "3900a378",
   "metadata": {},
   "source": []
  }
 ],
 "metadata": {
  "jupytext": {
   "cell_metadata_filter": "-all",
   "main_language": "python",
   "notebook_metadata_filter": "-all"
  },
  "kernelspec": {
   "display_name": "base",
   "language": "python",
   "name": "python3"
  },
  "language_info": {
   "codemirror_mode": {
    "name": "ipython",
    "version": 3
   },
   "file_extension": ".py",
   "mimetype": "text/x-python",
   "name": "python",
   "nbconvert_exporter": "python",
   "pygments_lexer": "ipython3",
   "version": "3.12.7"
  }
 },
 "nbformat": 4,
 "nbformat_minor": 5
}
